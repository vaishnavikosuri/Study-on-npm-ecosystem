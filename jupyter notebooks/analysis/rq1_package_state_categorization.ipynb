{
  "cells": [
    {
      "cell_type": "markdown",
      "metadata": {
        "id": "dAbVoPDmJKrR"
      },
      "source": [
        "# Imports"
      ]
    },
    {
      "cell_type": "code",
      "execution_count": null,
      "metadata": {
        "id": "055IeVdhRPRa"
      },
      "outputs": [],
      "source": [
        "import os\n",
        "import numpy as np\n",
        "import subprocess\n",
        "import pandas as pd\n",
        "import requests\n",
        "from urllib.parse import urljoin\n",
        "import sqlite3\n",
        "import json\n",
        "import time\n",
        "from datetime import datetime, timedelta\n",
        "import re\n",
        "from google.colab import drive\n",
        "import random\n",
        "from bs4 import BeautifulSoup\n",
        "import csv\n",
        "from urllib.parse import urlparse\n",
        "import math"
      ]
    },
    {
      "cell_type": "markdown",
      "metadata": {
        "id": "LetGJ-GLwQXV"
      },
      "source": [
        "# DB Init"
      ]
    },
    {
      "cell_type": "code",
      "execution_count": null,
      "metadata": {
        "colab": {
          "base_uri": "https://localhost:8080/"
        },
        "id": "FXIhQ2Nauqdv",
        "outputId": "f2b379a5-6f04-4793-b76f-d6b456218865"
      },
      "outputs": [
        {
          "output_type": "stream",
          "name": "stdout",
          "text": [
            "Mounted at /content/gdrive/\n"
          ]
        }
      ],
      "source": [
        "drive.mount('/content/gdrive/', force_remount=True)\n",
        "# change location as per your convenience\n",
        "# final_packages.txt (containing json dump of list of npm package names to be mined) should be present at this location\n",
        "# database will be saved at this location\n",
        "os.chdir(\"/content/gdrive/Shareddrives/ECS 260/final\")"
      ]
    },
    {
      "cell_type": "code",
      "execution_count": null,
      "metadata": {
        "id": "U-S6T2LQZZDb"
      },
      "outputs": [],
      "source": [
        "conn = sqlite3.connect('final_database.db')"
      ]
    },
    {
      "cell_type": "code",
      "execution_count": null,
      "metadata": {
        "id": "CH95jxUxZh2a"
      },
      "outputs": [],
      "source": [
        "# Read the SQLite database into a DataFrame\n",
        "df = pd.read_sql_query(\"SELECT * FROM metric_analysis\", conn)"
      ]
    },
    {
      "cell_type": "markdown",
      "metadata": {
        "id": "ai8pnBTpw-Rl"
      },
      "source": [
        "# Categorizing all packages based on definition logic"
      ]
    },
    {
      "cell_type": "code",
      "execution_count": null,
      "metadata": {
        "id": "mPw99LbGwIuk"
      },
      "outputs": [],
      "source": [
        "with open('metrics_for_categorization.txt', \"r\") as file:\n",
        "  metrics_for_categorization = file.read()\n",
        "metrics_for_categorization = json.loads(metrics_for_categorization)"
      ]
    },
    {
      "cell_type": "code",
      "execution_count": null,
      "metadata": {
        "id": "fUX2LOmPpZyn"
      },
      "outputs": [],
      "source": [
        "# Function to calculate state for a package\n",
        "def calculate_state(row):\n",
        "    metrics = {f\"{metric}\": row[metric] for metric in metrics_for_categorization}\n",
        "    states = []\n",
        "\n",
        "    # check for is_deprecated first\n",
        "    if metrics['is_deprecated'] == '1':\n",
        "        states.append('DEAD')\n",
        "    else :\n",
        "        # Logic for DEAD state\n",
        "        dead_criteria = {\n",
        "            'forks': 'LOW',\n",
        "            'issues': 'LOW',\n",
        "            'pr': 'LOW',\n",
        "            'avg_commit_freq': 'LOW',\n",
        "            'days_since_last_modification': ['HIGH', 'MID']\n",
        "        }\n",
        "\n",
        "        dead_count = matches_criteria(dead_criteria, metrics)\n",
        "        non_none_values_dead = len([metrics[metric] for metric in dead_criteria if metrics[metric] is not None and metrics[metric] != np.nan])\n",
        "\n",
        "        if non_none_values_dead > 0:\n",
        "            dead_count_threshold = non_none_values_dead / 2\n",
        "            if dead_count > dead_count_threshold:\n",
        "                states.append('DEAD')\n",
        "            elif dead_count == dead_count_threshold:\n",
        "                state = tiebreaker_for_dead(metrics)\n",
        "                if state:\n",
        "                    states.append(state)\n",
        "\n",
        "    # Logic for TRIVIAL state\n",
        "    trivial_criteria = {\n",
        "        'dependants_count': 'LOW',\n",
        "        'forks': 'LOW',\n",
        "        'issues': 'LOW',\n",
        "        'pr': 'LOW',\n",
        "        'contributors': 'LOW',\n",
        "        'unpack_size': 'LOW',\n",
        "        'total_lines_of_code': 'LOW',\n",
        "        'sloc': 'LOW',\n",
        "        'file_count': 'LOW'\n",
        "    }\n",
        "\n",
        "    trivial_count = matches_criteria(trivial_criteria, metrics)\n",
        "    non_none_values_trivial = len([metrics[metric] for metric in trivial_criteria if metrics[metric] is not None and metrics[metric] != np.nan])\n",
        "\n",
        "    if non_none_values_trivial > 0:\n",
        "        trivial_count_threshold = non_none_values_trivial / 2\n",
        "        if trivial_count > trivial_count_threshold:\n",
        "            states.append('TRIVIAL')\n",
        "        elif trivial_count == trivial_count_threshold:\n",
        "            state = tiebreaker_for_trivial(metrics)\n",
        "            if state:\n",
        "                states.append(state)\n",
        "\n",
        "     # Logic for ACTIVE state\n",
        "    if 'DEAD' not in states:\n",
        "      # Logic for ACTIVE state\n",
        "      active_criteria = {\n",
        "          'forks': ['MID', 'HIGH'],\n",
        "          'issues': ['MID', 'HIGH'],\n",
        "          'pr': ['MID', 'HIGH'],\n",
        "          'contributors': 'HIGH',\n",
        "          'avg_commit_freq': ['MID', 'HIGH'],\n",
        "          'days_since_last_modification': 'LOW'\n",
        "      }\n",
        "\n",
        "      active_count = matches_criteria(active_criteria, metrics)\n",
        "      non_none_values_active = len([metrics[metric] for metric in active_criteria if metrics[metric] is not None and metrics[metric] != np.nan])\n",
        "\n",
        "\n",
        "      if non_none_values_active > 0:\n",
        "          active_count_threshold = non_none_values_active / 2\n",
        "          if active_count > active_count_threshold:\n",
        "              states.append('ACTIVE')\n",
        "          elif active_count == active_count_threshold:\n",
        "              state = tiebreaker_for_active(metrics)\n",
        "              if state:\n",
        "                  states.append(state)\n",
        "\n",
        "    # Logic for DEPRECATED state\n",
        "    deprecated_criteria = {\n",
        "        'is_deprecated': '1'\n",
        "    }\n",
        "\n",
        "    deprecated_count = matches_criteria(deprecated_criteria, metrics)\n",
        "\n",
        "    if deprecated_count == 1:\n",
        "        states.append('DEPRECATED')\n",
        "\n",
        "    return states if states else None\n",
        "\n",
        "# Function to check if a package matches criteria for a given state\n",
        "def matches_criteria(criteria, metrics):\n",
        "    count = 0\n",
        "    for metric, value in criteria.items():\n",
        "        if isinstance(value, list):\n",
        "            if metrics[metric] in value:\n",
        "                count += 1\n",
        "        else:\n",
        "            if metrics[metric] == value:\n",
        "                count += 1\n",
        "    return count\n",
        "\n",
        "# Function for tiebreaker for TRIVIAL state\n",
        "def tiebreaker_for_trivial(metrics):\n",
        "    isNone = True\n",
        "    tiebreaker_order = ['file_count', 'sloc', 'total_lines_of_code', 'dependants_count', 'unpack_size', 'issues', 'pr', 'forks', 'contributors']\n",
        "    for metric in tiebreaker_order:\n",
        "        if metrics[metric] == 'LOW':\n",
        "            return 'TRIVIAL'\n",
        "        if metrics[metric] == None:\n",
        "            continue\n",
        "        else: return None\n",
        "    return None\n",
        "\n",
        "# Function for tiebreaker for ACTIVE state\n",
        "def tiebreaker_for_active(metrics):\n",
        "    tiebreaker_order = ['days_since_last_modification', 'avg_commit_freq', 'issues', 'pr', 'forks', 'contributors']\n",
        "    for metric in tiebreaker_order:\n",
        "        if metric in ['days_since_last_modification'] and metrics[metric] == 'LOW':\n",
        "            return 'ACTIVE'\n",
        "        if metric in ['avg_commit_freq','issues', 'pr', 'forks'] and metrics[metric] in ['MID', 'HIGH']:\n",
        "            return 'ACTIVE'\n",
        "        if metric == 'contributors' and metrics[metric] == 'HIGH':\n",
        "            return 'ACTIVE'\n",
        "        if metrics[metric] == None:\n",
        "            continue\n",
        "        else: return None\n",
        "    return None\n",
        "\n",
        "# Function for tiebreaker for DEAD state\n",
        "def tiebreaker_for_dead(metrics):\n",
        "    tiebreaker_order = ['days_since_last_modification', 'avg_commit_freq', 'z', 'issues', 'forks']\n",
        "    for metric in tiebreaker_order:\n",
        "        if metric in ['days_since_last_modification'] and metrics[metric] in ['HIGH', 'MID']:\n",
        "            return 'DEAD'\n",
        "        if metric in ['avg_commit_freq', 'pr', 'issues', 'forks'] and metrics[metric] == 'LOW':\n",
        "            return 'DEAD'\n",
        "        if metrics[metric] == None:\n",
        "            continue\n",
        "        else: return None\n",
        "    return None\n",
        "\n",
        "# Apply the state calculation function to each row of the DataFrame\n",
        "df['state'] = df.apply(calculate_state, axis=1)\n"
      ]
    },
    {
      "cell_type": "markdown",
      "metadata": {
        "id": "TjJprIg1xMfl"
      },
      "source": [
        "# Adding a new column `state` to the metric_analysis table\n",
        "\n",
        "\n",
        "\n"
      ]
    },
    {
      "cell_type": "code",
      "execution_count": null,
      "metadata": {
        "id": "FD7JL7Y4wVyz"
      },
      "outputs": [],
      "source": [
        "# Convert the 'state' column in the DataFrame to JSON format\n",
        "df['state'] = df['state'].apply(json.dumps)\n",
        "\n",
        "# Add the 'state' column to the 'metric_analysis' table in the SQLite database\n",
        "df.to_sql('metric_analysis', conn, if_exists='replace', index=False)\n",
        "\n",
        "# Commit changes to the database\n",
        "conn.commit()"
      ]
    },
    {
      "cell_type": "markdown",
      "source": [
        "# Distribution of States"
      ],
      "metadata": {
        "id": "iqT1_H4Bf2xq"
      }
    },
    {
      "cell_type": "code",
      "execution_count": null,
      "metadata": {
        "colab": {
          "base_uri": "https://localhost:8080/"
        },
        "id": "awRoucpBO4Tm",
        "outputId": "53ae5e1b-3c5d-4a1f-c878-b6a30f2b5db4"
      },
      "outputs": [
        {
          "output_type": "stream",
          "name": "stdout",
          "text": [
            "Counts for each combination of states:\n",
            "ACTIVE: 18675\n",
            "DEAD: 11105\n",
            "DEPRECATED: 1025\n",
            "TRIVIAL: 19881\n",
            "ACTIVE_DEAD: 0\n",
            "ACTIVE_DEPRECATED: 0\n",
            "ACTIVE_TRIVIAL: 9522\n",
            "DEAD_DEPRECATED: 1025\n",
            "DEAD_TRIVIAL: 10350\n",
            "DEPRECATED_TRIVIAL: 670\n",
            "ACTIVE_DEAD_DEPRECATED: 0\n",
            "ACTIVE_DEAD_TRIVIAL: 0\n",
            "ACTIVE_DEPRECATED_TRIVIAL: 0\n",
            "DEAD_DEPRECATED_TRIVIAL: 670\n",
            "ACTIVE_DEAD_DEPRECATED_TRIVIAL: 0\n",
            "STATELESS: 211\n"
          ]
        }
      ],
      "source": [
        "# Initialize variables to store the counts for each combination of states\n",
        "combination_counts = {\n",
        "    'ACTIVE': 0,\n",
        "    'DEAD': 0,\n",
        "    'DEPRECATED': 0,\n",
        "    'TRIVIAL': 0,\n",
        "    'ACTIVE_DEAD': 0,\n",
        "    'ACTIVE_DEPRECATED': 0,\n",
        "    'ACTIVE_TRIVIAL': 0,\n",
        "    'DEAD_DEPRECATED': 0,\n",
        "    'DEAD_TRIVIAL': 0,\n",
        "    'DEPRECATED_TRIVIAL': 0,\n",
        "    'ACTIVE_DEAD_DEPRECATED': 0,\n",
        "    'ACTIVE_DEAD_TRIVIAL': 0,\n",
        "    'ACTIVE_DEPRECATED_TRIVIAL': 0,\n",
        "    'DEAD_DEPRECATED_TRIVIAL': 0,\n",
        "    'ACTIVE_DEAD_DEPRECATED_TRIVIAL': 0,\n",
        "    'STATELESS': 0\n",
        "}\n",
        "\n",
        "# Loop to count ACTIVE state\n",
        "for index, row in df.iterrows():\n",
        "    states = row['state']\n",
        "    if states is not None and 'ACTIVE' in states:\n",
        "        combination_counts['ACTIVE'] += 1\n",
        "\n",
        "# Loop to count DEAD state\n",
        "for index, row in df.iterrows():\n",
        "    states = row['state']\n",
        "    if states is not None and 'DEAD' in states:\n",
        "        combination_counts['DEAD'] += 1\n",
        "\n",
        "# Loop to count DEPRECATED state\n",
        "for index, row in df.iterrows():\n",
        "    states = row['state']\n",
        "    if states is not None and 'DEPRECATED' in states:\n",
        "        combination_counts['DEPRECATED'] += 1\n",
        "\n",
        "# Loop to count TRIVIAL state\n",
        "for index, row in df.iterrows():\n",
        "    states = row['state']\n",
        "    if states is not None and 'TRIVIAL' in states:\n",
        "        combination_counts['TRIVIAL'] += 1\n",
        "\n",
        "# Loop to count ACTIVE_DEAD combination\n",
        "for index, row in df.iterrows():\n",
        "    states = row['state']\n",
        "    if states is not None and 'ACTIVE' in states and 'DEAD' in states:\n",
        "        combination_counts['ACTIVE_DEAD'] += 1\n",
        "\n",
        "# Loop to count ACTIVE_DEPRECATED combination\n",
        "for index, row in df.iterrows():\n",
        "    states = row['state']\n",
        "    if states is not None and 'ACTIVE' in states and 'DEPRECATED' in states:\n",
        "        combination_counts['ACTIVE_DEPRECATED'] += 1\n",
        "\n",
        "# Loop to count ACTIVE_TRIVIAL combination\n",
        "for index, row in df.iterrows():\n",
        "    states = row['state']\n",
        "    if states is not None and 'ACTIVE' in states and 'TRIVIAL' in states:\n",
        "        combination_counts['ACTIVE_TRIVIAL'] += 1\n",
        "\n",
        "# Loop to count DEAD_DEPRECATED combination\n",
        "for index, row in df.iterrows():\n",
        "    states = row['state']\n",
        "    if states is not None and 'DEAD' in states and 'DEPRECATED' in states:\n",
        "        combination_counts['DEAD_DEPRECATED'] += 1\n",
        "\n",
        "# Loop to count DEAD_TRIVIAL combination\n",
        "for index, row in df.iterrows():\n",
        "    states = row['state']\n",
        "    if states is not None and 'DEAD' in states and 'TRIVIAL' in states:\n",
        "        combination_counts['DEAD_TRIVIAL'] += 1\n",
        "\n",
        "# Loop to count DEPRECATED_TRIVIAL combination\n",
        "for index, row in df.iterrows():\n",
        "    states = row['state']\n",
        "    if states is not None and 'DEPRECATED' in states and 'TRIVIAL' in states:\n",
        "        combination_counts['DEPRECATED_TRIVIAL'] += 1\n",
        "\n",
        "# Loop to count ACTIVE_DEAD_DEPRECATED combination\n",
        "for index, row in df.iterrows():\n",
        "    states = row['state']\n",
        "    if states is not None and 'ACTIVE' in states and 'DEAD' in states and 'DEPRECATED' in states:\n",
        "        combination_counts['ACTIVE_DEAD_DEPRECATED'] += 1\n",
        "\n",
        "# Loop to count ACTIVE_DEAD_TRIVIAL combination\n",
        "for index, row in df.iterrows():\n",
        "    states = row['state']\n",
        "    if states is not None and 'ACTIVE' in states and 'DEAD' in states and 'TRIVIAL' in states:\n",
        "        combination_counts['ACTIVE_DEAD_TRIVIAL'] += 1\n",
        "\n",
        "# Loop to count ACTIVE_DEPRECATED_TRIVIAL combination\n",
        "for index, row in df.iterrows():\n",
        "    states = row['state']\n",
        "    if states is not None and 'ACTIVE' in states and 'DEPRECATED' in states and 'TRIVIAL' in states:\n",
        "        combination_counts['ACTIVE_DEPRECATED_TRIVIAL'] += 1\n",
        "\n",
        "# Loop to count DEAD_DEPRECATED_TRIVIAL combination\n",
        "for index, row in df.iterrows():\n",
        "    states = row['state']\n",
        "    if states is not None and 'DEAD' in states and 'DEPRECATED' in states and 'TRIVIAL' in states:\n",
        "        combination_counts['DEAD_DEPRECATED_TRIVIAL'] += 1\n",
        "\n",
        "# Loop to count ACTIVE_DEAD_DEPRECATED_TRIVIAL combination\n",
        "for index, row in df.iterrows():\n",
        "    states = row['state']\n",
        "    if states is not None and 'ACTIVE' in states and 'DEAD' in states and 'DEPRECATED' in states and 'TRIVIAL' in states:\n",
        "        combination_counts['ACTIVE_DEAD_DEPRECATED_TRIVIAL'] += 1\n",
        "\n",
        "# Loop to count STATELESS\n",
        "for index, row in df.iterrows():\n",
        "    states = row['state']\n",
        "    if states is None:\n",
        "        combination_counts['STATELESS'] += 1\n",
        "\n",
        "# Print counts for each combination of states\n",
        "print(\"Counts for each combination of states:\")\n",
        "for combination, count in combination_counts.items():\n",
        "    print(f\"{combination}: {count}\")"
      ]
    }
  ],
  "metadata": {
    "colab": {
      "provenance": [],
      "collapsed_sections": [
        "dAbVoPDmJKrR",
        "ai8pnBTpw-Rl"
      ]
    },
    "kernelspec": {
      "display_name": "Python 3",
      "name": "python3"
    },
    "language_info": {
      "name": "python"
    }
  },
  "nbformat": 4,
  "nbformat_minor": 0
}