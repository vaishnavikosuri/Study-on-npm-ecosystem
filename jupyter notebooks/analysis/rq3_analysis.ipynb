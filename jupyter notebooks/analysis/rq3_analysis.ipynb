{
  "cells": [
    {
      "cell_type": "markdown",
      "metadata": {
        "id": "dAbVoPDmJKrR"
      },
      "source": [
        "# Imports"
      ]
    },
    {
      "cell_type": "code",
      "execution_count": 1,
      "metadata": {
        "id": "055IeVdhRPRa"
      },
      "outputs": [],
      "source": [
        "import os\n",
        "import numpy as np\n",
        "import subprocess\n",
        "import pandas as pd\n",
        "import requests\n",
        "from urllib.parse import urljoin\n",
        "import sqlite3\n",
        "import json\n",
        "import time\n",
        "from datetime import datetime, timedelta\n",
        "import re\n",
        "from google.colab import drive\n",
        "import random\n",
        "from bs4 import BeautifulSoup\n",
        "import csv\n",
        "from urllib.parse import urlparse\n",
        "from scipy.stats import f_oneway\n",
        "from sklearn.model_selection import train_test_split\n",
        "from sklearn.ensemble import RandomForestClassifier\n",
        "from sklearn.metrics import accuracy_score"
      ]
    },
    {
      "cell_type": "code",
      "execution_count": 2,
      "metadata": {
        "colab": {
          "base_uri": "https://localhost:8080/"
        },
        "id": "FXIhQ2Nauqdv",
        "outputId": "ee18e94d-74e8-4be9-85ba-b8e4f562a69a"
      },
      "outputs": [
        {
          "output_type": "stream",
          "name": "stdout",
          "text": [
            "Mounted at /content/gdrive/\n"
          ]
        }
      ],
      "source": [
        "# mounting google drive\n",
        "drive.mount('/content/gdrive/', force_remount=True)\n",
        "os.chdir(\"/content/gdrive/Shareddrives/ECS 260/final\")"
      ]
    },
    {
      "cell_type": "markdown",
      "metadata": {
        "id": "5TkJKg7MJOpQ"
      },
      "source": [
        "# Function Definitions"
      ]
    },
    {
      "cell_type": "code",
      "execution_count": 3,
      "metadata": {
        "id": "XSziMK10yLPd"
      },
      "outputs": [],
      "source": [
        "def add_column_if_not_exists(cursor, table_name, column_name, column_definition):\n",
        "  # check if the column already exists\n",
        "  cursor.execute(f\"PRAGMA table_info({table_name});\")\n",
        "  existing_columns = [column[1] for column in cursor.fetchall()]\n",
        "\n",
        "  if column_name not in existing_columns:\n",
        "    # add the column if it does not exist\n",
        "    cursor.execute(f\"ALTER TABLE {table_name} ADD COLUMN {column_name} {column_definition};\")"
      ]
    },
    {
      "cell_type": "code",
      "source": [
        "# putting the value in the range from 0 to 100\n",
        "def normalize_column(column):\n",
        "  min_val = column.min()\n",
        "  max_val = column.max()\n",
        "  return (column - min_val) / (max_val - min_val) * 100"
      ],
      "metadata": {
        "id": "Tjdc3wmHNjTZ"
      },
      "execution_count": 4,
      "outputs": []
    },
    {
      "cell_type": "code",
      "source": [
        "def calculate_weighted_average(df):\n",
        "  weights = {\n",
        "      'health_score': 25,\n",
        "      'security_numeric': 20,\n",
        "      'popularity_numeric': 10,\n",
        "      'rank': 10,\n",
        "      'maintenance_numeric': 15,\n",
        "      'community_numeric': 15,\n",
        "      'lagging_dependencies_count': 5\n",
        "  }\n",
        "  values = [df[key] for key in weights.keys()]\n",
        "  weights = list(weights.values())\n",
        "\n",
        "  weight_sum = 0\n",
        "  value_sum = 0\n",
        "  for i in range(len(df) - 1):\n",
        "    if np.isnan(values[i]):\n",
        "      continue\n",
        "    weight_sum += weights[i]\n",
        "    value_sum += values[i] * weights[i]\n",
        "\n",
        "  if value_sum == 0:\n",
        "    return np.nan\n",
        "\n",
        "  return value_sum/weight_sum"
      ],
      "metadata": {
        "id": "JFdv6qeDgFIF"
      },
      "execution_count": 5,
      "outputs": []
    },
    {
      "cell_type": "code",
      "source": [
        "# categorize a metric based on threshold into 'HIGH', 'MID', 'LOW'\n",
        "def categorize_metric(metric_name, conn, categorization_logic='soft'):\n",
        "  \"\"\"\n",
        "  Soft Categorization:\n",
        "    Categorizes the specified metric column of a DataFrame into 'HIGH', 'MID', or 'LOW' based on thresholds.\n",
        "\n",
        "  Hard Categorization:\n",
        "    Categorizes the specified metric column of a DataFrame without specifying any thresholds and copying the values as is.\n",
        "\n",
        "  Parameters:\n",
        "    metric_name (str): Name of the metric column to be categorized.\n",
        "    conn (sqlite3.Connection): SQLite database connection object.\n",
        "    categorization_logic: <'soft', 'hard'>\n",
        "\n",
        "  Returns:\n",
        "    DataFrame: DataFrame with a new column containing the assigned labels.\n",
        "  \"\"\"\n",
        "\n",
        "  query = f\"SELECT package, {metric_name} FROM package_metrics WHERE {metric_name} IS NOT NULL\"\n",
        "  package_data_df = pd.read_sql_query(query, conn)\n",
        "\n",
        "  if categorization_logic == 'hard':\n",
        "    package_data_df[f'{metric_name}'] = package_data_df[metric_name]\n",
        "    return package_data_df\n",
        "\n",
        "  # Convert the specified metric column to numeric, coercing errors to NaN\n",
        "  package_data_df[metric_name] = pd.to_numeric(package_data_df[metric_name], errors='coerce')\n",
        "\n",
        "  # Calculate the range of the specified metric\n",
        "  min_value = package_data_df[metric_name].min()\n",
        "  max_value = package_data_df[metric_name].max()\n",
        "  value_range = max_value - min_value\n",
        "\n",
        "  # Calculate thresholds for categorizing the specified metric\n",
        "  low_threshold = min_value + (value_range / 3)\n",
        "  high_threshold = min_value + (2 * value_range / 3)\n",
        "\n",
        "  # Function to assign label based on thresholds\n",
        "  def assign_label(value):\n",
        "    if pd.isna(value):\n",
        "      return None\n",
        "    elif value > high_threshold:\n",
        "      return 'HIGH'\n",
        "    elif low_threshold <= value <= high_threshold:\n",
        "      return 'MID'\n",
        "    else:\n",
        "      return 'LOW'\n",
        "\n",
        "  # Create a new column containing the assigned labels\n",
        "  package_data_df[f'{metric_name}'] = package_data_df[metric_name].apply(assign_label)\n",
        "\n",
        "  # Return the DataFrame with only the newly created column\n",
        "  return package_data_df"
      ],
      "metadata": {
        "id": "h_pzZ-4Wd9Jq"
      },
      "execution_count": 6,
      "outputs": []
    },
    {
      "cell_type": "code",
      "source": [
        "# update database\n",
        "def update_metric_categorization(df, table_name, column_name, identifier_column, conn, cursor):\n",
        "  values_to_update = [(row[column_name], row[identifier_column]) for _, row in df.iterrows()]\n",
        "  update_query = f\"UPDATE {table_name} SET {column_name} = ? WHERE {identifier_column} = ?\"\n",
        "  cursor.executemany(update_query, values_to_update)\n",
        "  conn.commit()"
      ],
      "metadata": {
        "id": "VqTIESS8gGka"
      },
      "execution_count": 7,
      "outputs": []
    },
    {
      "cell_type": "code",
      "source": [
        "def check_if_state(df_val, state):\n",
        "  if df_val == None:\n",
        "    return False\n",
        "  df_val = json.loads(df_val)\n",
        "  return state in df_val"
      ],
      "metadata": {
        "id": "u0-4Xjm4Yqqz"
      },
      "execution_count": 8,
      "outputs": []
    },
    {
      "cell_type": "markdown",
      "metadata": {
        "id": "7kyxTPar_4kd"
      },
      "source": [
        "# DB Init"
      ]
    },
    {
      "cell_type": "code",
      "execution_count": 9,
      "metadata": {
        "id": "8ZrKGN8K_Ew_"
      },
      "outputs": [],
      "source": [
        "# init database and cursor\n",
        "conn = sqlite3.connect(f\"final_database.db\")\n",
        "cursor = conn.cursor()"
      ]
    },
    {
      "cell_type": "code",
      "execution_count": 10,
      "metadata": {
        "id": "AWS2Pb_JQ5rU"
      },
      "outputs": [],
      "source": [
        "cursor.execute(\"\"\"\n",
        "    CREATE TABLE IF NOT EXISTS metric_analysis (\n",
        "        package TEXT\n",
        "    )\n",
        "\"\"\")\n",
        "\n",
        "conn.commit()"
      ]
    },
    {
      "cell_type": "code",
      "execution_count": 11,
      "metadata": {
        "id": "GtdzF8hYywx8",
        "colab": {
          "base_uri": "https://localhost:8080/"
        },
        "outputId": "252d2f0d-a661-4881-ad4e-454d6e4c2c9a"
      },
      "outputs": [
        {
          "output_type": "stream",
          "name": "stdout",
          "text": [
            "7 metrics to be used for RQ3 security:\n",
            "['lagging_dependencies_count', 'health_score', 'security_numeric', 'popularity_numeric', 'maintenance_numeric', 'community_numeric', 'rank']\n"
          ]
        }
      ],
      "source": [
        "# getting final metrics to be used for RQ3 security analysis\n",
        "with open('metrics_for_security.txt', \"r\") as file:\n",
        "  metrics_for_security = file.read()\n",
        "\n",
        "metrics_for_security = json.loads(metrics_for_security)\n",
        "n_cols = len(metrics_for_security)\n",
        "print(f\"{n_cols} metrics to be used for RQ3 security:\\n{metrics_for_security}\")\n",
        "\n",
        "add_column_if_not_exists(cursor, 'metric_analysis', 'threat_score', 'TEXT DEFAULT NULL')\n",
        "conn.commit()"
      ]
    },
    {
      "cell_type": "code",
      "source": [
        "sql_query = \"\"\"\n",
        "    INSERT INTO metric_analysis (package)\n",
        "    SELECT p.package\n",
        "    FROM package_data p\n",
        "    LEFT JOIN metric_analysis m ON p.package = m.package\n",
        "    WHERE m.package IS NULL\n",
        "\"\"\"\n",
        "cursor.execute(sql_query)\n",
        "conn.commit()"
      ],
      "metadata": {
        "id": "-OBeIeixJjHI"
      },
      "execution_count": 12,
      "outputs": []
    },
    {
      "cell_type": "code",
      "execution_count": 13,
      "metadata": {
        "colab": {
          "base_uri": "https://localhost:8080/",
          "height": 634
        },
        "id": "AHt0R-BPI1NN",
        "outputId": "31d43e07-d18b-4614-d418-29dfff9f14e1"
      },
      "outputs": [
        {
          "output_type": "execute_result",
          "data": {
            "text/plain": [
              "                            package is_deprecated dependants_count forks  \\\n",
              "0         @gerrico/react-components             0              LOW   LOW   \n",
              "1      express-simple-app-generator             0              LOW  None   \n",
              "2                 generator-giraffe             0              LOW   LOW   \n",
              "3                   outdated-client             0              LOW  None   \n",
              "4      @semi-bot/semi-theme-shopify             0             None  None   \n",
              "...                             ...           ...              ...   ...   \n",
              "29995                    haribotify             0              LOW  None   \n",
              "29996        eslint-config-sharecar             0              LOW   LOW   \n",
              "29997              webpack-to-ardoq             0              LOW  None   \n",
              "29998         zywave-content-search             0              LOW  None   \n",
              "29999                      ngdoc-md             0              LOW   LOW   \n",
              "\n",
              "      issues    pr contributors unpack_size total_lines_of_code  sloc  \\\n",
              "0        LOW   LOW          LOW         MID                 MID   MID   \n",
              "1       None  None         None        HIGH                None  None   \n",
              "2        LOW   LOW          LOW        None                 MID   MID   \n",
              "3       None  None         None         MID                None  None   \n",
              "4       None  None         None         MID                None  None   \n",
              "...      ...   ...          ...         ...                 ...   ...   \n",
              "29995   None  None         None        None                None  None   \n",
              "29996    LOW   LOW          LOW         MID                 MID   LOW   \n",
              "29997   None  None         None         MID                None  None   \n",
              "29998   None  None         None         MID                None  None   \n",
              "29999    LOW   LOW          LOW        None                 MID   LOW   \n",
              "\n",
              "      days_since_last_modification avg_commit_freq threat_score file_count  \\\n",
              "0                              LOW             MID          LOW        MID   \n",
              "1                              LOW            None          MID       None   \n",
              "2                              LOW             MID          LOW       None   \n",
              "3                              LOW            None          LOW        MID   \n",
              "4                              LOW            None          MID        MID   \n",
              "...                            ...             ...          ...        ...   \n",
              "29995                          LOW            None          MID       None   \n",
              "29996                          LOW             LOW          MID        LOW   \n",
              "29997                          LOW            None          LOW        MID   \n",
              "29998                          LOW            None          LOW        MID   \n",
              "29999                          LOW             LOW          LOW       None   \n",
              "\n",
              "                       state  \n",
              "0        [\"DEAD\", \"TRIVIAL\"]  \n",
              "1      [\"TRIVIAL\", \"ACTIVE\"]  \n",
              "2        [\"DEAD\", \"TRIVIAL\"]  \n",
              "3                 [\"ACTIVE\"]  \n",
              "4                 [\"ACTIVE\"]  \n",
              "...                      ...  \n",
              "29995  [\"TRIVIAL\", \"ACTIVE\"]  \n",
              "29996    [\"DEAD\", \"TRIVIAL\"]  \n",
              "29997             [\"ACTIVE\"]  \n",
              "29998             [\"ACTIVE\"]  \n",
              "29999    [\"DEAD\", \"TRIVIAL\"]  \n",
              "\n",
              "[30000 rows x 15 columns]"
            ],
            "text/html": [
              "\n",
              "  <div id=\"df-6fee4374-166b-482a-af7e-a92580f597e9\" class=\"colab-df-container\">\n",
              "    <div>\n",
              "<style scoped>\n",
              "    .dataframe tbody tr th:only-of-type {\n",
              "        vertical-align: middle;\n",
              "    }\n",
              "\n",
              "    .dataframe tbody tr th {\n",
              "        vertical-align: top;\n",
              "    }\n",
              "\n",
              "    .dataframe thead th {\n",
              "        text-align: right;\n",
              "    }\n",
              "</style>\n",
              "<table border=\"1\" class=\"dataframe\">\n",
              "  <thead>\n",
              "    <tr style=\"text-align: right;\">\n",
              "      <th></th>\n",
              "      <th>package</th>\n",
              "      <th>is_deprecated</th>\n",
              "      <th>dependants_count</th>\n",
              "      <th>forks</th>\n",
              "      <th>issues</th>\n",
              "      <th>pr</th>\n",
              "      <th>contributors</th>\n",
              "      <th>unpack_size</th>\n",
              "      <th>total_lines_of_code</th>\n",
              "      <th>sloc</th>\n",
              "      <th>days_since_last_modification</th>\n",
              "      <th>avg_commit_freq</th>\n",
              "      <th>threat_score</th>\n",
              "      <th>file_count</th>\n",
              "      <th>state</th>\n",
              "    </tr>\n",
              "  </thead>\n",
              "  <tbody>\n",
              "    <tr>\n",
              "      <th>0</th>\n",
              "      <td>@gerrico/react-components</td>\n",
              "      <td>0</td>\n",
              "      <td>LOW</td>\n",
              "      <td>LOW</td>\n",
              "      <td>LOW</td>\n",
              "      <td>LOW</td>\n",
              "      <td>LOW</td>\n",
              "      <td>MID</td>\n",
              "      <td>MID</td>\n",
              "      <td>MID</td>\n",
              "      <td>LOW</td>\n",
              "      <td>MID</td>\n",
              "      <td>LOW</td>\n",
              "      <td>MID</td>\n",
              "      <td>[\"DEAD\", \"TRIVIAL\"]</td>\n",
              "    </tr>\n",
              "    <tr>\n",
              "      <th>1</th>\n",
              "      <td>express-simple-app-generator</td>\n",
              "      <td>0</td>\n",
              "      <td>LOW</td>\n",
              "      <td>None</td>\n",
              "      <td>None</td>\n",
              "      <td>None</td>\n",
              "      <td>None</td>\n",
              "      <td>HIGH</td>\n",
              "      <td>None</td>\n",
              "      <td>None</td>\n",
              "      <td>LOW</td>\n",
              "      <td>None</td>\n",
              "      <td>MID</td>\n",
              "      <td>None</td>\n",
              "      <td>[\"TRIVIAL\", \"ACTIVE\"]</td>\n",
              "    </tr>\n",
              "    <tr>\n",
              "      <th>2</th>\n",
              "      <td>generator-giraffe</td>\n",
              "      <td>0</td>\n",
              "      <td>LOW</td>\n",
              "      <td>LOW</td>\n",
              "      <td>LOW</td>\n",
              "      <td>LOW</td>\n",
              "      <td>LOW</td>\n",
              "      <td>None</td>\n",
              "      <td>MID</td>\n",
              "      <td>MID</td>\n",
              "      <td>LOW</td>\n",
              "      <td>MID</td>\n",
              "      <td>LOW</td>\n",
              "      <td>None</td>\n",
              "      <td>[\"DEAD\", \"TRIVIAL\"]</td>\n",
              "    </tr>\n",
              "    <tr>\n",
              "      <th>3</th>\n",
              "      <td>outdated-client</td>\n",
              "      <td>0</td>\n",
              "      <td>LOW</td>\n",
              "      <td>None</td>\n",
              "      <td>None</td>\n",
              "      <td>None</td>\n",
              "      <td>None</td>\n",
              "      <td>MID</td>\n",
              "      <td>None</td>\n",
              "      <td>None</td>\n",
              "      <td>LOW</td>\n",
              "      <td>None</td>\n",
              "      <td>LOW</td>\n",
              "      <td>MID</td>\n",
              "      <td>[\"ACTIVE\"]</td>\n",
              "    </tr>\n",
              "    <tr>\n",
              "      <th>4</th>\n",
              "      <td>@semi-bot/semi-theme-shopify</td>\n",
              "      <td>0</td>\n",
              "      <td>None</td>\n",
              "      <td>None</td>\n",
              "      <td>None</td>\n",
              "      <td>None</td>\n",
              "      <td>None</td>\n",
              "      <td>MID</td>\n",
              "      <td>None</td>\n",
              "      <td>None</td>\n",
              "      <td>LOW</td>\n",
              "      <td>None</td>\n",
              "      <td>MID</td>\n",
              "      <td>MID</td>\n",
              "      <td>[\"ACTIVE\"]</td>\n",
              "    </tr>\n",
              "    <tr>\n",
              "      <th>...</th>\n",
              "      <td>...</td>\n",
              "      <td>...</td>\n",
              "      <td>...</td>\n",
              "      <td>...</td>\n",
              "      <td>...</td>\n",
              "      <td>...</td>\n",
              "      <td>...</td>\n",
              "      <td>...</td>\n",
              "      <td>...</td>\n",
              "      <td>...</td>\n",
              "      <td>...</td>\n",
              "      <td>...</td>\n",
              "      <td>...</td>\n",
              "      <td>...</td>\n",
              "      <td>...</td>\n",
              "    </tr>\n",
              "    <tr>\n",
              "      <th>29995</th>\n",
              "      <td>haribotify</td>\n",
              "      <td>0</td>\n",
              "      <td>LOW</td>\n",
              "      <td>None</td>\n",
              "      <td>None</td>\n",
              "      <td>None</td>\n",
              "      <td>None</td>\n",
              "      <td>None</td>\n",
              "      <td>None</td>\n",
              "      <td>None</td>\n",
              "      <td>LOW</td>\n",
              "      <td>None</td>\n",
              "      <td>MID</td>\n",
              "      <td>None</td>\n",
              "      <td>[\"TRIVIAL\", \"ACTIVE\"]</td>\n",
              "    </tr>\n",
              "    <tr>\n",
              "      <th>29996</th>\n",
              "      <td>eslint-config-sharecar</td>\n",
              "      <td>0</td>\n",
              "      <td>LOW</td>\n",
              "      <td>LOW</td>\n",
              "      <td>LOW</td>\n",
              "      <td>LOW</td>\n",
              "      <td>LOW</td>\n",
              "      <td>MID</td>\n",
              "      <td>MID</td>\n",
              "      <td>LOW</td>\n",
              "      <td>LOW</td>\n",
              "      <td>LOW</td>\n",
              "      <td>MID</td>\n",
              "      <td>LOW</td>\n",
              "      <td>[\"DEAD\", \"TRIVIAL\"]</td>\n",
              "    </tr>\n",
              "    <tr>\n",
              "      <th>29997</th>\n",
              "      <td>webpack-to-ardoq</td>\n",
              "      <td>0</td>\n",
              "      <td>LOW</td>\n",
              "      <td>None</td>\n",
              "      <td>None</td>\n",
              "      <td>None</td>\n",
              "      <td>None</td>\n",
              "      <td>MID</td>\n",
              "      <td>None</td>\n",
              "      <td>None</td>\n",
              "      <td>LOW</td>\n",
              "      <td>None</td>\n",
              "      <td>LOW</td>\n",
              "      <td>MID</td>\n",
              "      <td>[\"ACTIVE\"]</td>\n",
              "    </tr>\n",
              "    <tr>\n",
              "      <th>29998</th>\n",
              "      <td>zywave-content-search</td>\n",
              "      <td>0</td>\n",
              "      <td>LOW</td>\n",
              "      <td>None</td>\n",
              "      <td>None</td>\n",
              "      <td>None</td>\n",
              "      <td>None</td>\n",
              "      <td>MID</td>\n",
              "      <td>None</td>\n",
              "      <td>None</td>\n",
              "      <td>LOW</td>\n",
              "      <td>None</td>\n",
              "      <td>LOW</td>\n",
              "      <td>MID</td>\n",
              "      <td>[\"ACTIVE\"]</td>\n",
              "    </tr>\n",
              "    <tr>\n",
              "      <th>29999</th>\n",
              "      <td>ngdoc-md</td>\n",
              "      <td>0</td>\n",
              "      <td>LOW</td>\n",
              "      <td>LOW</td>\n",
              "      <td>LOW</td>\n",
              "      <td>LOW</td>\n",
              "      <td>LOW</td>\n",
              "      <td>None</td>\n",
              "      <td>MID</td>\n",
              "      <td>LOW</td>\n",
              "      <td>LOW</td>\n",
              "      <td>LOW</td>\n",
              "      <td>LOW</td>\n",
              "      <td>None</td>\n",
              "      <td>[\"DEAD\", \"TRIVIAL\"]</td>\n",
              "    </tr>\n",
              "  </tbody>\n",
              "</table>\n",
              "<p>30000 rows × 15 columns</p>\n",
              "</div>\n",
              "    <div class=\"colab-df-buttons\">\n",
              "\n",
              "  <div class=\"colab-df-container\">\n",
              "    <button class=\"colab-df-convert\" onclick=\"convertToInteractive('df-6fee4374-166b-482a-af7e-a92580f597e9')\"\n",
              "            title=\"Convert this dataframe to an interactive table.\"\n",
              "            style=\"display:none;\">\n",
              "\n",
              "  <svg xmlns=\"http://www.w3.org/2000/svg\" height=\"24px\" viewBox=\"0 -960 960 960\">\n",
              "    <path d=\"M120-120v-720h720v720H120Zm60-500h600v-160H180v160Zm220 220h160v-160H400v160Zm0 220h160v-160H400v160ZM180-400h160v-160H180v160Zm440 0h160v-160H620v160ZM180-180h160v-160H180v160Zm440 0h160v-160H620v160Z\"/>\n",
              "  </svg>\n",
              "    </button>\n",
              "\n",
              "  <style>\n",
              "    .colab-df-container {\n",
              "      display:flex;\n",
              "      gap: 12px;\n",
              "    }\n",
              "\n",
              "    .colab-df-convert {\n",
              "      background-color: #E8F0FE;\n",
              "      border: none;\n",
              "      border-radius: 50%;\n",
              "      cursor: pointer;\n",
              "      display: none;\n",
              "      fill: #1967D2;\n",
              "      height: 32px;\n",
              "      padding: 0 0 0 0;\n",
              "      width: 32px;\n",
              "    }\n",
              "\n",
              "    .colab-df-convert:hover {\n",
              "      background-color: #E2EBFA;\n",
              "      box-shadow: 0px 1px 2px rgba(60, 64, 67, 0.3), 0px 1px 3px 1px rgba(60, 64, 67, 0.15);\n",
              "      fill: #174EA6;\n",
              "    }\n",
              "\n",
              "    .colab-df-buttons div {\n",
              "      margin-bottom: 4px;\n",
              "    }\n",
              "\n",
              "    [theme=dark] .colab-df-convert {\n",
              "      background-color: #3B4455;\n",
              "      fill: #D2E3FC;\n",
              "    }\n",
              "\n",
              "    [theme=dark] .colab-df-convert:hover {\n",
              "      background-color: #434B5C;\n",
              "      box-shadow: 0px 1px 3px 1px rgba(0, 0, 0, 0.15);\n",
              "      filter: drop-shadow(0px 1px 2px rgba(0, 0, 0, 0.3));\n",
              "      fill: #FFFFFF;\n",
              "    }\n",
              "  </style>\n",
              "\n",
              "    <script>\n",
              "      const buttonEl =\n",
              "        document.querySelector('#df-6fee4374-166b-482a-af7e-a92580f597e9 button.colab-df-convert');\n",
              "      buttonEl.style.display =\n",
              "        google.colab.kernel.accessAllowed ? 'block' : 'none';\n",
              "\n",
              "      async function convertToInteractive(key) {\n",
              "        const element = document.querySelector('#df-6fee4374-166b-482a-af7e-a92580f597e9');\n",
              "        const dataTable =\n",
              "          await google.colab.kernel.invokeFunction('convertToInteractive',\n",
              "                                                    [key], {});\n",
              "        if (!dataTable) return;\n",
              "\n",
              "        const docLinkHtml = 'Like what you see? Visit the ' +\n",
              "          '<a target=\"_blank\" href=https://colab.research.google.com/notebooks/data_table.ipynb>data table notebook</a>'\n",
              "          + ' to learn more about interactive tables.';\n",
              "        element.innerHTML = '';\n",
              "        dataTable['output_type'] = 'display_data';\n",
              "        await google.colab.output.renderOutput(dataTable, element);\n",
              "        const docLink = document.createElement('div');\n",
              "        docLink.innerHTML = docLinkHtml;\n",
              "        element.appendChild(docLink);\n",
              "      }\n",
              "    </script>\n",
              "  </div>\n",
              "\n",
              "\n",
              "<div id=\"df-9a6072e6-8f25-4b40-a035-82ad6a40cc0a\">\n",
              "  <button class=\"colab-df-quickchart\" onclick=\"quickchart('df-9a6072e6-8f25-4b40-a035-82ad6a40cc0a')\"\n",
              "            title=\"Suggest charts\"\n",
              "            style=\"display:none;\">\n",
              "\n",
              "<svg xmlns=\"http://www.w3.org/2000/svg\" height=\"24px\"viewBox=\"0 0 24 24\"\n",
              "     width=\"24px\">\n",
              "    <g>\n",
              "        <path d=\"M19 3H5c-1.1 0-2 .9-2 2v14c0 1.1.9 2 2 2h14c1.1 0 2-.9 2-2V5c0-1.1-.9-2-2-2zM9 17H7v-7h2v7zm4 0h-2V7h2v10zm4 0h-2v-4h2v4z\"/>\n",
              "    </g>\n",
              "</svg>\n",
              "  </button>\n",
              "\n",
              "<style>\n",
              "  .colab-df-quickchart {\n",
              "      --bg-color: #E8F0FE;\n",
              "      --fill-color: #1967D2;\n",
              "      --hover-bg-color: #E2EBFA;\n",
              "      --hover-fill-color: #174EA6;\n",
              "      --disabled-fill-color: #AAA;\n",
              "      --disabled-bg-color: #DDD;\n",
              "  }\n",
              "\n",
              "  [theme=dark] .colab-df-quickchart {\n",
              "      --bg-color: #3B4455;\n",
              "      --fill-color: #D2E3FC;\n",
              "      --hover-bg-color: #434B5C;\n",
              "      --hover-fill-color: #FFFFFF;\n",
              "      --disabled-bg-color: #3B4455;\n",
              "      --disabled-fill-color: #666;\n",
              "  }\n",
              "\n",
              "  .colab-df-quickchart {\n",
              "    background-color: var(--bg-color);\n",
              "    border: none;\n",
              "    border-radius: 50%;\n",
              "    cursor: pointer;\n",
              "    display: none;\n",
              "    fill: var(--fill-color);\n",
              "    height: 32px;\n",
              "    padding: 0;\n",
              "    width: 32px;\n",
              "  }\n",
              "\n",
              "  .colab-df-quickchart:hover {\n",
              "    background-color: var(--hover-bg-color);\n",
              "    box-shadow: 0 1px 2px rgba(60, 64, 67, 0.3), 0 1px 3px 1px rgba(60, 64, 67, 0.15);\n",
              "    fill: var(--button-hover-fill-color);\n",
              "  }\n",
              "\n",
              "  .colab-df-quickchart-complete:disabled,\n",
              "  .colab-df-quickchart-complete:disabled:hover {\n",
              "    background-color: var(--disabled-bg-color);\n",
              "    fill: var(--disabled-fill-color);\n",
              "    box-shadow: none;\n",
              "  }\n",
              "\n",
              "  .colab-df-spinner {\n",
              "    border: 2px solid var(--fill-color);\n",
              "    border-color: transparent;\n",
              "    border-bottom-color: var(--fill-color);\n",
              "    animation:\n",
              "      spin 1s steps(1) infinite;\n",
              "  }\n",
              "\n",
              "  @keyframes spin {\n",
              "    0% {\n",
              "      border-color: transparent;\n",
              "      border-bottom-color: var(--fill-color);\n",
              "      border-left-color: var(--fill-color);\n",
              "    }\n",
              "    20% {\n",
              "      border-color: transparent;\n",
              "      border-left-color: var(--fill-color);\n",
              "      border-top-color: var(--fill-color);\n",
              "    }\n",
              "    30% {\n",
              "      border-color: transparent;\n",
              "      border-left-color: var(--fill-color);\n",
              "      border-top-color: var(--fill-color);\n",
              "      border-right-color: var(--fill-color);\n",
              "    }\n",
              "    40% {\n",
              "      border-color: transparent;\n",
              "      border-right-color: var(--fill-color);\n",
              "      border-top-color: var(--fill-color);\n",
              "    }\n",
              "    60% {\n",
              "      border-color: transparent;\n",
              "      border-right-color: var(--fill-color);\n",
              "    }\n",
              "    80% {\n",
              "      border-color: transparent;\n",
              "      border-right-color: var(--fill-color);\n",
              "      border-bottom-color: var(--fill-color);\n",
              "    }\n",
              "    90% {\n",
              "      border-color: transparent;\n",
              "      border-bottom-color: var(--fill-color);\n",
              "    }\n",
              "  }\n",
              "</style>\n",
              "\n",
              "  <script>\n",
              "    async function quickchart(key) {\n",
              "      const quickchartButtonEl =\n",
              "        document.querySelector('#' + key + ' button');\n",
              "      quickchartButtonEl.disabled = true;  // To prevent multiple clicks.\n",
              "      quickchartButtonEl.classList.add('colab-df-spinner');\n",
              "      try {\n",
              "        const charts = await google.colab.kernel.invokeFunction(\n",
              "            'suggestCharts', [key], {});\n",
              "      } catch (error) {\n",
              "        console.error('Error during call to suggestCharts:', error);\n",
              "      }\n",
              "      quickchartButtonEl.classList.remove('colab-df-spinner');\n",
              "      quickchartButtonEl.classList.add('colab-df-quickchart-complete');\n",
              "    }\n",
              "    (() => {\n",
              "      let quickchartButtonEl =\n",
              "        document.querySelector('#df-9a6072e6-8f25-4b40-a035-82ad6a40cc0a button');\n",
              "      quickchartButtonEl.style.display =\n",
              "        google.colab.kernel.accessAllowed ? 'block' : 'none';\n",
              "    })();\n",
              "  </script>\n",
              "</div>\n",
              "    </div>\n",
              "  </div>\n"
            ],
            "application/vnd.google.colaboratory.intrinsic+json": {
              "type": "dataframe",
              "variable_name": "df",
              "summary": "{\n  \"name\": \"df\",\n  \"rows\": 30000,\n  \"fields\": [\n    {\n      \"column\": \"package\",\n      \"properties\": {\n        \"dtype\": \"string\",\n        \"num_unique_values\": 30000,\n        \"samples\": [\n          \"fb-extract\",\n          \"@gravity-ui/onboarding\",\n          \"@viskit/item\"\n        ],\n        \"semantic_type\": \"\",\n        \"description\": \"\"\n      }\n    },\n    {\n      \"column\": \"is_deprecated\",\n      \"properties\": {\n        \"dtype\": \"category\",\n        \"num_unique_values\": 2,\n        \"samples\": [\n          \"1\",\n          \"0\"\n        ],\n        \"semantic_type\": \"\",\n        \"description\": \"\"\n      }\n    },\n    {\n      \"column\": \"dependants_count\",\n      \"properties\": {\n        \"dtype\": \"category\",\n        \"num_unique_values\": 3,\n        \"samples\": [\n          \"LOW\",\n          \"HIGH\"\n        ],\n        \"semantic_type\": \"\",\n        \"description\": \"\"\n      }\n    },\n    {\n      \"column\": \"forks\",\n      \"properties\": {\n        \"dtype\": \"category\",\n        \"num_unique_values\": 3,\n        \"samples\": [\n          \"LOW\",\n          \"HIGH\"\n        ],\n        \"semantic_type\": \"\",\n        \"description\": \"\"\n      }\n    },\n    {\n      \"column\": \"issues\",\n      \"properties\": {\n        \"dtype\": \"category\",\n        \"num_unique_values\": 3,\n        \"samples\": [\n          \"LOW\",\n          \"MID\"\n        ],\n        \"semantic_type\": \"\",\n        \"description\": \"\"\n      }\n    },\n    {\n      \"column\": \"pr\",\n      \"properties\": {\n        \"dtype\": \"category\",\n        \"num_unique_values\": 3,\n        \"samples\": [\n          \"LOW\",\n          \"MID\"\n        ],\n        \"semantic_type\": \"\",\n        \"description\": \"\"\n      }\n    },\n    {\n      \"column\": \"contributors\",\n      \"properties\": {\n        \"dtype\": \"category\",\n        \"num_unique_values\": 3,\n        \"samples\": [\n          \"LOW\",\n          \"HIGH\"\n        ],\n        \"semantic_type\": \"\",\n        \"description\": \"\"\n      }\n    },\n    {\n      \"column\": \"unpack_size\",\n      \"properties\": {\n        \"dtype\": \"category\",\n        \"num_unique_values\": 3,\n        \"samples\": [\n          \"MID\",\n          \"HIGH\"\n        ],\n        \"semantic_type\": \"\",\n        \"description\": \"\"\n      }\n    },\n    {\n      \"column\": \"total_lines_of_code\",\n      \"properties\": {\n        \"dtype\": \"category\",\n        \"num_unique_values\": 3,\n        \"samples\": [\n          \"MID\",\n          \"LOW\"\n        ],\n        \"semantic_type\": \"\",\n        \"description\": \"\"\n      }\n    },\n    {\n      \"column\": \"sloc\",\n      \"properties\": {\n        \"dtype\": \"category\",\n        \"num_unique_values\": 3,\n        \"samples\": [\n          \"MID\",\n          \"LOW\"\n        ],\n        \"semantic_type\": \"\",\n        \"description\": \"\"\n      }\n    },\n    {\n      \"column\": \"days_since_last_modification\",\n      \"properties\": {\n        \"dtype\": \"category\",\n        \"num_unique_values\": 3,\n        \"samples\": [\n          \"LOW\",\n          \"HIGH\"\n        ],\n        \"semantic_type\": \"\",\n        \"description\": \"\"\n      }\n    },\n    {\n      \"column\": \"avg_commit_freq\",\n      \"properties\": {\n        \"dtype\": \"category\",\n        \"num_unique_values\": 3,\n        \"samples\": [\n          \"MID\",\n          \"LOW\"\n        ],\n        \"semantic_type\": \"\",\n        \"description\": \"\"\n      }\n    },\n    {\n      \"column\": \"threat_score\",\n      \"properties\": {\n        \"dtype\": \"category\",\n        \"num_unique_values\": 3,\n        \"samples\": [\n          \"LOW\",\n          \"MID\"\n        ],\n        \"semantic_type\": \"\",\n        \"description\": \"\"\n      }\n    },\n    {\n      \"column\": \"file_count\",\n      \"properties\": {\n        \"dtype\": \"category\",\n        \"num_unique_values\": 3,\n        \"samples\": [\n          \"MID\",\n          \"LOW\"\n        ],\n        \"semantic_type\": \"\",\n        \"description\": \"\"\n      }\n    },\n    {\n      \"column\": \"state\",\n      \"properties\": {\n        \"dtype\": \"category\",\n        \"num_unique_values\": 7,\n        \"samples\": [\n          \"[\\\"DEAD\\\", \\\"TRIVIAL\\\"]\",\n          \"[\\\"TRIVIAL\\\", \\\"ACTIVE\\\"]\"\n        ],\n        \"semantic_type\": \"\",\n        \"description\": \"\"\n      }\n    }\n  ]\n}"
            }
          },
          "metadata": {},
          "execution_count": 13
        }
      ],
      "source": [
        "df = pd.read_sql_query(f\"SELECT * FROM metric_analysis\", conn)\n",
        "df"
      ]
    },
    {
      "cell_type": "markdown",
      "metadata": {
        "id": "jpfKOpb5fAds"
      },
      "source": [
        "# Updating threat score"
      ]
    },
    {
      "cell_type": "code",
      "source": [
        "add_column_if_not_exists(cursor, 'package_metrics', 'threat_score', 'TEXT DEFAULT NULL')\n",
        "conn.commit()"
      ],
      "metadata": {
        "id": "V-Eq6Enua_OW"
      },
      "execution_count": null,
      "outputs": []
    },
    {
      "cell_type": "code",
      "execution_count": null,
      "metadata": {
        "id": "mCK1YoIQBqRQ"
      },
      "outputs": [],
      "source": [
        "table_name = 'package_metrics'\n",
        "identifier_column = 'package'\n",
        "df = pd.read_sql_query(f'SELECT {identifier_column}, {\", \".join(metrics_for_security)} FROM {table_name}', conn)\n",
        "for metric in metrics_for_security:\n",
        "  df[metric] = pd.to_numeric(df[metric], errors='coerce')\n",
        "  if metric in ['rank', 'lagging_dependencies_count']:\n",
        "    df[metric] = normalize_column(df[metric])\n",
        "df['threat_score'] = df.apply(calculate_weighted_average, axis=1)\n",
        "update_metric_categorization(df, table_name, 'threat_score', identifier_column, conn, cursor)"
      ]
    },
    {
      "cell_type": "code",
      "source": [
        "pd.to_numeric(df['threat_score'], errors='coerce').describe()"
      ],
      "metadata": {
        "colab": {
          "base_uri": "https://localhost:8080/"
        },
        "id": "FC7txMd2bB4c",
        "outputId": "2c3a33f2-b08b-4911-a440-a2fd557dd160"
      },
      "execution_count": null,
      "outputs": [
        {
          "output_type": "execute_result",
          "data": {
            "text/plain": [
              "count    29365.000000\n",
              "mean        38.382001\n",
              "std          9.490004\n",
              "min          0.459770\n",
              "25%         30.189552\n",
              "50%         39.280295\n",
              "75%         41.712303\n",
              "max         95.271097\n",
              "Name: threat_score, dtype: float64"
            ]
          },
          "metadata": {},
          "execution_count": 88
        }
      ]
    },
    {
      "cell_type": "code",
      "source": [
        "table_name = 'metric_analysis'\n",
        "identifier_column = 'package'\n",
        "for metric in ['threat_score']:\n",
        "  print('----------------------------------------------------------------------------------------------------------------------------')\n",
        "  print(f\"Now updating {metric} ...\")\n",
        "  update_metric_categorization(categorize_metric(metric, conn), table_name, metric, identifier_column, conn, cursor)\n",
        "  print(f\"Updated {metric}\")\n",
        "  print('----------------------------------------------------------------------------------------------------------------------------')\n",
        "for metric in ['threat_score']:\n",
        "  cursor.execute(f\"SELECT DISTINCT {metric} FROM {table_name}\")\n",
        "  print(f\"Metric {metric} --> {[row[0] for row in cursor.fetchall()]}\")"
      ],
      "metadata": {
        "id": "C5GgExtHYeWU",
        "colab": {
          "base_uri": "https://localhost:8080/"
        },
        "outputId": "ed749e7a-725c-41be-b1db-3cbe48ae0115"
      },
      "execution_count": null,
      "outputs": [
        {
          "output_type": "stream",
          "name": "stdout",
          "text": [
            "----------------------------------------------------------------------------------------------------------------------------\n",
            "Now updating threat_score ...\n",
            "Updated threat_score\n",
            "----------------------------------------------------------------------------------------------------------------------------\n",
            "Metric threat_score --> ['LOW', 'MID', None, 'HIGH']\n"
          ]
        }
      ]
    },
    {
      "cell_type": "markdown",
      "source": [
        "# RQ3 Analysis - performing ANOVA test"
      ],
      "metadata": {
        "id": "JM7jbi7gWOCW"
      }
    },
    {
      "cell_type": "code",
      "source": [
        "df = pd.read_sql_query(\"SELECT pm.*, ma.state FROM package_metrics as pm JOIN metric_analysis as ma ON pm.package = ma.package\", conn)\n",
        "active_threat = df[df.apply(lambda row: check_if_state(row['state'], 'ACTIVE'), axis=1)]['threat_score']\n",
        "deprecated_threat = df[df.apply(lambda row: check_if_state(row['state'], 'DEPRECATED'), axis=1)]['threat_score']\n",
        "dead_threat = df[df.apply(lambda row: check_if_state(row['state'], 'DEAD'), axis=1)]['threat_score']\n",
        "trivial_threat = df[df.apply(lambda row: check_if_state(row['state'], 'TRIVIAL'), axis=1)]['threat_score']"
      ],
      "metadata": {
        "id": "673hZJVRp3f7"
      },
      "execution_count": null,
      "outputs": []
    },
    {
      "cell_type": "code",
      "source": [
        "# check for missing values (None or NaN) and count non-missing values in 'active_threat'\n",
        "active_threat_missing = active_threat.isna().sum()\n",
        "active_threat_count = active_threat.notna().sum()\n",
        "\n",
        "# check for missing values (None or NaN) and count non-missing values in 'deprecated_threat'\n",
        "deprecated_threat_missing = deprecated_threat.isna().sum()\n",
        "deprecated_threat_count = deprecated_threat.notna().sum()\n",
        "\n",
        "# check for missing values (None or NaN) and count non-missing values in 'dead_threat'\n",
        "dead_threat_missing = dead_threat.isna().sum()\n",
        "dead_threat_count = dead_threat.notna().sum()\n",
        "\n",
        "# check for missing values (None or NaN) and count non-missing values in 'trivial_threat'\n",
        "trivial_threat_missing = trivial_threat.isna().sum()\n",
        "trivial_threat_count = trivial_threat.notna().sum()\n",
        "\n",
        "# print results\n",
        "print(\"Missing values (None or NaN) and non-missing value counts:\")\n",
        "print(\"==> Active Threat:\\tMissing --> \", active_threat_missing, \"\\tNon-missing --> \", active_threat_count)\n",
        "print(\"==> Deprecated Threat:\\tMissing --> \", deprecated_threat_missing, \"\\tNon-missing --> \", deprecated_threat_count)\n",
        "print(\"==> Dead Threat:\\tMissing --> \", dead_threat_missing, \"\\tNon-missing --> \", dead_threat_count)\n",
        "print(\"==> Trivial Threat:\\tMissing --> \", trivial_threat_missing, \"\\tNon-missing --> \", trivial_threat_count)"
      ],
      "metadata": {
        "colab": {
          "base_uri": "https://localhost:8080/"
        },
        "id": "4aa_SrCeEQew",
        "outputId": "092db714-f8c0-4c11-e8a0-46a4eba09fcf"
      },
      "execution_count": null,
      "outputs": [
        {
          "output_type": "stream",
          "name": "stdout",
          "text": [
            "Missing values (None or NaN) and non-missing value counts:\n",
            "==> Active Threat:\tMissing -->  440 \tNon-missing -->  18235\n",
            "==> Deprecated Threat:\tMissing -->  0 \tNon-missing -->  1025\n",
            "==> Dead Threat:\tMissing -->  2 \tNon-missing -->  11103\n",
            "==> Trivial Threat:\tMissing -->  92 \tNon-missing -->  19789\n"
          ]
        }
      ]
    },
    {
      "cell_type": "code",
      "source": [
        "# drop NaN values and ensure uniform length\n",
        "active_threat_cleaned = active_threat.dropna().sample(min(len(active_threat.dropna()), len(deprecated_threat.dropna()), len(dead_threat.dropna()), len(trivial_threat.dropna())))\n",
        "deprecated_threat_cleaned = deprecated_threat.dropna().sample(min(len(active_threat.dropna()), len(deprecated_threat.dropna()), len(dead_threat.dropna()), len(trivial_threat.dropna())))\n",
        "dead_threat_cleaned = dead_threat.dropna().sample(min(len(active_threat.dropna()), len(deprecated_threat.dropna()), len(dead_threat.dropna()), len(trivial_threat.dropna())))\n",
        "trivial_threat_cleaned = trivial_threat.dropna().sample(min(len(active_threat.dropna()), len(deprecated_threat.dropna()), len(dead_threat.dropna()), len(trivial_threat.dropna())))\n",
        "\n",
        "# Given statistics\n",
        "non_missing_counts = {\n",
        "    'active_threat': active_threat_count,\n",
        "    'deprecated_threat': deprecated_threat_count,\n",
        "    'dead_threat': dead_threat_count,\n",
        "    'trivial_threat' : trivial_threat_count\n",
        "}\n",
        "\n",
        "# perform one-way ANOVA\n",
        "f_statistic, p_value = f_oneway(active_threat_cleaned, deprecated_threat_cleaned, dead_threat_cleaned, trivial_threat_cleaned)\n",
        "\n",
        "print(\"ANOVA Results:\")\n",
        "print(\"\\tF-Statistic:\", f_statistic)\n",
        "print(\"\\tP-Value:\", p_value)\n",
        "print()\n",
        "if p_value < 0.05:\n",
        "  print(\"==> The means of the groups are significantly different (Reject null hypothesis).\")\n",
        "else:\n",
        "  print(\"==> There is no significant difference between the means of the groups (Fail to reject null hypothesis).\")"
      ],
      "metadata": {
        "colab": {
          "base_uri": "https://localhost:8080/"
        },
        "id": "-yEi1gXMC3bo",
        "outputId": "bfbce79d-1e3e-482a-ae0a-ae05727c2bb6"
      },
      "execution_count": null,
      "outputs": [
        {
          "output_type": "stream",
          "name": "stdout",
          "text": [
            "ANOVA Results:\n",
            "\tF-Statistic: 9.043853068018349\n",
            "\tP-Value: 5.7597467432457056e-06\n",
            "\n",
            "==> The means of the groups are significantly different (Reject null hypothesis).\n"
          ]
        }
      ]
    },
    {
      "cell_type": "code",
      "source": [
        "df = pd.read_sql_query(\"SELECT threat_score, state FROM metric_analysis\", conn)\n",
        "active_threat_type = df[df.apply(lambda row: check_if_state(row['state'], 'ACTIVE'), axis=1)]['threat_score']\n",
        "deprecated_threat_type = df[df.apply(lambda row: check_if_state(row['state'], 'DEPRECATED'), axis=1)]['threat_score']\n",
        "dead_threat_type = df[df.apply(lambda row: check_if_state(row['state'], 'DEAD'), axis=1)]['threat_score']\n",
        "trivial_threat_type = df[df.apply(lambda row: check_if_state(row['state'], 'TRIVIAL'), axis=1)]['threat_score']"
      ],
      "metadata": {
        "id": "fTQEh89TeVTw"
      },
      "execution_count": null,
      "outputs": []
    },
    {
      "cell_type": "code",
      "source": [
        "state_counts = active_threat_type.value_counts()\n",
        "# print(\"Threat score mean of different states:\")\n",
        "print(\"---------------------------------------------------------------------------------------------------------------------------------------------------------------------------------\")\n",
        "print(\"ACTIVE:\")\n",
        "state_counts = active_threat_type.value_counts()\n",
        "print(\"\\t\", \"High n Mid --> \", state_counts[['HIGH', 'MID']].sum(), \" | \", \"{:.2f}\".format(state_counts[['HIGH', 'MID']].sum()/state_counts.sum()*100), \"%\",\n",
        "      \"\\tHigh --> \", state_counts[['HIGH']].sum(), \" | \", \"{:.2f}\".format(state_counts[['HIGH']].sum()/state_counts.sum()*100), \"%\",\n",
        "      \"\\tMid --> \", state_counts[['MID']].sum(), \" | \", \"{:.2f}\".format(state_counts[['MID']].sum()/state_counts.sum()*100), \"%\",\n",
        "      \"\\tLow --> \", state_counts[['LOW']].sum(), \" | \", \"{:.2f}\".format(state_counts[['LOW']].sum()/state_counts.sum()*100), \"%\",\n",
        "      \"\\t High to Low Ratio --> \", \"{:.2f}\".format(state_counts[['HIGH']].sum()/state_counts[['LOW']].sum()))\n",
        "print(\"---------------------------------------------------------------------------------------------------------------------------------------------------------------------------------\")\n",
        "print(\"TRIVIAL:\")\n",
        "state_counts = trivial_threat_type.value_counts()\n",
        "print(\"\\t\", \"High n Mid --> \", state_counts[['HIGH', 'MID']].sum(), \" | \", \"{:.2f}\".format(state_counts[['HIGH', 'MID']].sum()/state_counts.sum()*100), \"%\",\n",
        "      \"\\tHigh --> \", state_counts[['HIGH']].sum(), \" | \", \"{:.2f}\".format(state_counts[['HIGH']].sum()/state_counts.sum()*100), \"%\",\n",
        "      \"\\tMid --> \", state_counts[['MID']].sum(), \" | \", \"{:.2f}\".format(state_counts[['MID']].sum()/state_counts.sum()*100), \"%\",\n",
        "      \"\\tLow --> \", state_counts[['LOW']].sum(), \" | \", \"{:.2f}\".format(state_counts[['LOW']].sum()/state_counts.sum()*100), \"%\",\n",
        "      \"\\t High to Low Ratio --> \", \"{:.2f}\".format(state_counts[['HIGH']].sum()/state_counts[['LOW']].sum()))\n",
        "print(\"---------------------------------------------------------------------------------------------------------------------------------------------------------------------------------\")\n",
        "print(\"DEAD:\")\n",
        "state_counts = dead_threat_type.value_counts()\n",
        "print(\"\\t\", \"High n Mid --> \", state_counts[['HIGH', 'MID']].sum(), \" | \", \"{:.2f}\".format(state_counts[['HIGH', 'MID']].sum()/state_counts.sum()*100), \"%\",\n",
        "      \"\\tHigh --> \", state_counts[['HIGH']].sum(), \" | \", \"{:.2f}\".format(state_counts[['HIGH']].sum()/state_counts.sum()*100), \"%\",\n",
        "      \"\\tMid --> \", state_counts[['MID']].sum(), \" | \", \"{:.2f}\".format(state_counts[['MID']].sum()/state_counts.sum()*100), \"%\",\n",
        "      \"\\tLow --> \", state_counts[['LOW']].sum(), \" | \", \"{:.2f}\".format(state_counts[['LOW']].sum()/state_counts.sum()*100), \"%\",\n",
        "      \"\\t High to Low Ratio --> \", \"{:.2f}\".format(state_counts[['HIGH']].sum()/state_counts[['LOW']].sum()))\n",
        "print(\"---------------------------------------------------------------------------------------------------------------------------------------------------------------------------------\")\n",
        "print(\"DEPRECATED:\")\n",
        "state_counts = deprecated_threat_type.value_counts()\n",
        "print(\"\\t\", \"High n Mid --> \", state_counts[['HIGH', 'MID']].sum(), \" | \", \"{:.2f}\".format(state_counts[['HIGH', 'MID']].sum()/state_counts.sum()*100), \"%\",\n",
        "      \"\\tHigh --> \", state_counts[['HIGH']].sum(), \" | \", \"{:.2f}\".format(state_counts[['HIGH']].sum()/state_counts.sum()*100), \"%\",\n",
        "      \"\\t\\tMid --> \", state_counts[['MID']].sum(), \" | \", \"{:.2f}\".format(state_counts[['MID']].sum()/state_counts.sum()*100), \"%\",\n",
        "      \"\\tLow --> \", state_counts[['LOW']].sum(), \" | \", \"{:.2f}\".format(state_counts[['LOW']].sum()/state_counts.sum()*100), \"%\",\n",
        "      \"\\t High to Low Ratio --> \", \"{:.2f}\".format(state_counts[['HIGH']].sum()/state_counts[['LOW']].sum()))\n",
        "print(\"---------------------------------------------------------------------------------------------------------------------------------------------------------------------------------\")"
      ],
      "metadata": {
        "colab": {
          "base_uri": "https://localhost:8080/"
        },
        "id": "5iWaiNlwh6d7",
        "outputId": "3bb1b55e-9d9b-436c-f4dc-6350ae42b2de"
      },
      "execution_count": null,
      "outputs": [
        {
          "output_type": "stream",
          "name": "stdout",
          "text": [
            "---------------------------------------------------------------------------------------------------------------------------------------------------------------------------------\n",
            "ACTIVE:\n",
            "\t High n Mid -->  12993  |  71.25 % \tHigh -->  360  |  1.97 % \tMid -->  12633  |  69.28 % \tLow -->  5242  |  28.75 % \t High to Low Ratio -->  0.07\n",
            "---------------------------------------------------------------------------------------------------------------------------------------------------------------------------------\n",
            "TRIVIAL:\n",
            "\t High n Mid -->  14349  |  72.51 % \tHigh -->  137  |  0.69 % \tMid -->  14212  |  71.82 % \tLow -->  5440  |  27.49 % \t High to Low Ratio -->  0.03\n",
            "---------------------------------------------------------------------------------------------------------------------------------------------------------------------------------\n",
            "DEAD:\n",
            "\t High n Mid -->  8095  |  72.91 % \tHigh -->  117  |  1.05 % \tMid -->  7978  |  71.85 % \tLow -->  3008  |  27.09 % \t High to Low Ratio -->  0.04\n",
            "---------------------------------------------------------------------------------------------------------------------------------------------------------------------------------\n",
            "DEPRECATED:\n",
            "\t High n Mid -->  699  |  68.20 % \tHigh -->  4  |  0.39 % \t\tMid -->  695  |  67.80 % \tLow -->  326  |  31.80 % \t High to Low Ratio -->  0.01\n",
            "---------------------------------------------------------------------------------------------------------------------------------------------------------------------------------\n"
          ]
        }
      ]
    },
    {
      "cell_type": "markdown",
      "source": [
        "# Model Testing via Random Forest"
      ],
      "metadata": {
        "id": "zzmN_EhTFtwi"
      }
    },
    {
      "cell_type": "code",
      "source": [
        "with open('metrics_for_categorization.txt', \"r\") as file:\n",
        "  metrics_for_categorization = file.read()\n",
        "metrics_for_categorization = json.loads(metrics_for_categorization)\n",
        "\n",
        "columns_str = ', '.join([f\"pm.{metric}\" for metric in metrics_for_categorization])\n",
        "sql_query = f\"\"\"\n",
        "  SELECT pm.package, {columns_str}, ma.state\n",
        "  FROM package_metrics AS pm\n",
        "  JOIN metric_analysis AS ma ON pm.package = ma.package\n",
        "\"\"\"\n",
        "\n",
        "df = pd.read_sql_query(sql_query, conn)\n",
        "\n",
        "def process_state(state, target_state):\n",
        "  if state == None:\n",
        "    return 0\n",
        "  state_list = json.loads(state)\n",
        "  if target_state in state_list:\n",
        "    return 1\n",
        "  else:\n",
        "    return 0\n",
        "\n",
        "for state in ['ACTIVE', 'DEAD', 'DEPRECATED', 'TRIVIAL']:\n",
        "  df[state] = df['state'].apply(lambda x: process_state(x, state))"
      ],
      "metadata": {
        "id": "PhDEtg_BFykn"
      },
      "execution_count": null,
      "outputs": []
    },
    {
      "cell_type": "code",
      "source": [
        "def train_and_print_feature_importance(X, y, state_name):\n",
        "    print(f\"\\n{'='*10} {state_name} {'='*10}\")\n",
        "\n",
        "    # Step 2: Drop rows with missing values\n",
        "    X_dropped = X.dropna()\n",
        "    y_dropped = y[X_dropped.index]  # Match indices after dropping rows\n",
        "\n",
        "    # Step 3: Split data into training and testing sets\n",
        "    X_train, X_test, y_train, y_test = train_test_split(X_dropped, y_dropped, test_size=0.2, random_state=42)\n",
        "\n",
        "    # Step 4: Select a classification model\n",
        "    model = RandomForestClassifier()\n",
        "\n",
        "    # Step 5: Train the model\n",
        "    model.fit(X_train, y_train)\n",
        "\n",
        "    # Step 6: Evaluate the model\n",
        "    y_pred = model.predict(X_test)\n",
        "    accuracy = accuracy_score(y_test, y_pred)\n",
        "    print(\"Accuracy:\", accuracy)\n",
        "\n",
        "    # Step 7: Feature Importance Analysis\n",
        "    feature_importances = model.feature_importances_\n",
        "    sorted_indices = np.argsort(feature_importances)[::-1]\n",
        "\n",
        "    # Print feature importance scores\n",
        "    print(\"Feature Importance Scores:\")\n",
        "    for idx in sorted_indices:\n",
        "        print(f\"Feature '{feature_columns[idx]}': {feature_importances[idx]}\")"
      ],
      "metadata": {
        "id": "MQluXzLyDLtm"
      },
      "execution_count": null,
      "outputs": []
    },
    {
      "cell_type": "code",
      "source": [
        "# Step 1: Select features (X) and target (y)\n",
        "feature_columns = ['is_deprecated', 'dependants_count', 'forks', 'issues', 'pr', 'contributors',\n",
        "                   'unpack_size', 'avg_commit_freq', 'total_lines_of_code', 'sloc',\n",
        "                   'days_since_last_modification', 'file_count']\n",
        "\n",
        "for state in ['ACTIVE', 'DEAD', 'DEPRECATED', 'TRIVIAL']:\n",
        "    X = df[feature_columns]  # Selecting the specified feature columns\n",
        "    y = df[state]  # Assuming state column contains the labeled state\n",
        "\n",
        "    train_and_print_feature_importance(X, y, state)"
      ],
      "metadata": {
        "colab": {
          "base_uri": "https://localhost:8080/"
        },
        "id": "qPZH2CLWEgdK",
        "outputId": "c2a6b849-d112-4c38-8d9b-8b043644bd26"
      },
      "execution_count": null,
      "outputs": [
        {
          "output_type": "stream",
          "name": "stdout",
          "text": [
            "\n",
            "========== ACTIVE ==========\n",
            "Accuracy: 1.0\n",
            "Feature Importance Scores:\n",
            "Feature 'pr': 0.39696506849294566\n",
            "Feature 'forks': 0.22147056318795688\n",
            "Feature 'avg_commit_freq': 0.09609140054693924\n",
            "Feature 'issues': 0.08090646686442167\n",
            "Feature 'contributors': 0.0640694224597885\n",
            "Feature 'is_deprecated': 0.03548133713165355\n",
            "Feature 'dependants_count': 0.0322590530161417\n",
            "Feature 'total_lines_of_code': 0.026927222936506574\n",
            "Feature 'sloc': 0.015162534136241508\n",
            "Feature 'unpack_size': 0.013536742827457955\n",
            "Feature 'file_count': 0.008655643788881348\n",
            "Feature 'days_since_last_modification': 0.008474544611065407\n",
            "\n",
            "========== DEAD ==========\n",
            "Accuracy: 1.0\n",
            "Feature Importance Scores:\n",
            "Feature 'pr': 0.4168828587234351\n",
            "Feature 'forks': 0.20730109948560035\n",
            "Feature 'avg_commit_freq': 0.09763393158267383\n",
            "Feature 'contributors': 0.07209732552300853\n",
            "Feature 'issues': 0.07015790056042397\n",
            "Feature 'is_deprecated': 0.03517698431189517\n",
            "Feature 'dependants_count': 0.028887611653764085\n",
            "Feature 'total_lines_of_code': 0.02310919798403924\n",
            "Feature 'sloc': 0.016068391226346703\n",
            "Feature 'unpack_size': 0.011619284840444279\n",
            "Feature 'days_since_last_modification': 0.010792903366214659\n",
            "Feature 'file_count': 0.010272510742154208\n",
            "\n",
            "========== DEPRECATED ==========\n",
            "Accuracy: 1.0\n",
            "Feature Importance Scores:\n",
            "Feature 'is_deprecated': 0.9295069742703038\n",
            "Feature 'avg_commit_freq': 0.009707304185101247\n",
            "Feature 'sloc': 0.009646122995235516\n",
            "Feature 'total_lines_of_code': 0.009357525167304679\n",
            "Feature 'unpack_size': 0.00795501539094736\n",
            "Feature 'days_since_last_modification': 0.007910581288576166\n",
            "Feature 'dependants_count': 0.007522960071636438\n",
            "Feature 'file_count': 0.005739372768484343\n",
            "Feature 'contributors': 0.0036033542593389887\n",
            "Feature 'pr': 0.0034986877788754337\n",
            "Feature 'forks': 0.0031770145632929805\n",
            "Feature 'issues': 0.0023750872609030896\n",
            "\n",
            "========== TRIVIAL ==========\n",
            "Accuracy: 0.9935794542536116\n",
            "Feature Importance Scores:\n",
            "Feature 'pr': 0.21889452643834478\n",
            "Feature 'forks': 0.19282715052991026\n",
            "Feature 'contributors': 0.16679275283679054\n",
            "Feature 'sloc': 0.08855609301488439\n",
            "Feature 'issues': 0.07335275570093086\n",
            "Feature 'dependants_count': 0.06693118088913987\n",
            "Feature 'file_count': 0.06340302928415315\n",
            "Feature 'unpack_size': 0.05377233557867151\n",
            "Feature 'avg_commit_freq': 0.03378978203503837\n",
            "Feature 'total_lines_of_code': 0.028315086291488028\n",
            "Feature 'days_since_last_modification': 0.012638617675340684\n",
            "Feature 'is_deprecated': 0.0007266897253075095\n"
          ]
        }
      ]
    }
  ],
  "metadata": {
    "colab": {
      "provenance": []
    },
    "kernelspec": {
      "display_name": "Python 3",
      "name": "python3"
    },
    "language_info": {
      "name": "python"
    }
  },
  "nbformat": 4,
  "nbformat_minor": 0
}