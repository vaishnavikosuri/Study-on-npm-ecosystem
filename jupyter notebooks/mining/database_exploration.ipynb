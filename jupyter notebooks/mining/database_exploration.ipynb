{
  "cells": [
    {
      "cell_type": "markdown",
      "source": [
        "# Imports"
      ],
      "metadata": {
        "id": "IYmWwPf6LuMH"
      }
    },
    {
      "cell_type": "code",
      "execution_count": null,
      "metadata": {
        "colab": {
          "base_uri": "https://localhost:8080/"
        },
        "id": "055IeVdhRPRa",
        "outputId": "3113de37-704b-415f-9665-37c1be89b43b"
      },
      "outputs": [
        {
          "output_type": "stream",
          "name": "stdout",
          "text": [
            "Mounted at /content/gdrive/\n"
          ]
        }
      ],
      "source": [
        "import os\n",
        "import numpy as np\n",
        "import subprocess\n",
        "import pandas as pd\n",
        "import requests\n",
        "from urllib.parse import urljoin\n",
        "import sqlite3\n",
        "import json\n",
        "import time\n",
        "from datetime import datetime, timedelta\n",
        "import re\n",
        "from google.colab import drive\n",
        "import random\n",
        "from bs4 import BeautifulSoup\n",
        "import csv\n",
        "\n",
        "drive.mount('/content/gdrive/', force_remount=True)\n",
        "os.chdir(\"/content/gdrive/Shareddrives/ECS 260/final\")"
      ]
    },
    {
      "cell_type": "markdown",
      "source": [
        "# Exploring counts and values of some metrics"
      ],
      "metadata": {
        "id": "CR_2dqrH93SX"
      }
    },
    {
      "cell_type": "code",
      "source": [
        "def get_df(query, conn):\n",
        "  return pd.read_sql_query(query, conn)\n",
        "\n",
        "def get_distinct_values_from_column(conn, column_name, table = 'package_data'):\n",
        "  sql_query = f\"SELECT DISTINCT {column_name} FROM {table}\"\n",
        "  cursor.execute(sql_query)\n",
        "  rows = cursor.fetchall()\n",
        "  return [row[0] for row in rows]\n",
        "\n",
        "def get_valid_values_of_column(conn, column_name, table = 'package_data'):\n",
        "  sql_query = f\"SELECT * FROM {table} WHERE {column_name} IS NOT NULL\"\n",
        "  cursor.execute(sql_query)\n",
        "  rows = cursor.fetchall()\n",
        "  return [row[0] for row in rows]\n",
        "\n",
        "def get_column_names(conn, table = 'package_data'):\n",
        "  cursor.execute(f\"PRAGMA table_info({table})\")\n",
        "  return [column[1] for column in cursor.fetchall()]"
      ],
      "metadata": {
        "id": "QuRBUF1EpmcG"
      },
      "execution_count": null,
      "outputs": []
    },
    {
      "cell_type": "code",
      "source": [
        "conn = sqlite3.connect(\"final_database.db\")\n",
        "cursor = conn.cursor()"
      ],
      "metadata": {
        "id": "VZAGbip3k4tq"
      },
      "execution_count": null,
      "outputs": []
    },
    {
      "cell_type": "code",
      "source": [
        "# sql_query = \"\"\"\n",
        "#     SELECT * FROM package_data\n",
        "#     WHERE contributors = '5000+';\n",
        "# \"\"\"\n",
        "# # cursor.execute(\"UPDATE package_data SET contributors=16979 WHERE git_repository_url_final='https://github.com/DefinitelyTyped/DefinitelyTyped'\")\n",
        "# # conn.commit()\n",
        "# df = get_df(sql_query, conn)\n",
        "# set(df['git_repository_url_final'])"
      ],
      "metadata": {
        "id": "kuvj2JnlGG3u"
      },
      "execution_count": null,
      "outputs": []
    },
    {
      "cell_type": "code",
      "source": [
        "# get table names in the database\n",
        "get_df(\"SELECT name FROM sqlite_master WHERE type='table'\", conn)"
      ],
      "metadata": {
        "colab": {
          "base_uri": "https://localhost:8080/",
          "height": 206
        },
        "id": "axZ2k8LDExVr",
        "outputId": "56d109d9-6c28-4bb3-f138-226a2dc79e18"
      },
      "execution_count": null,
      "outputs": [
        {
          "output_type": "execute_result",
          "data": {
            "text/plain": [
              "              name\n",
              "0     package_data\n",
              "1    download_data\n",
              "2  package_metrics\n",
              "3       temp_table\n",
              "4  metric_analysis"
            ],
            "text/html": [
              "\n",
              "  <div id=\"df-2c8d076e-0440-433d-a8d6-990a8e2a7270\" class=\"colab-df-container\">\n",
              "    <div>\n",
              "<style scoped>\n",
              "    .dataframe tbody tr th:only-of-type {\n",
              "        vertical-align: middle;\n",
              "    }\n",
              "\n",
              "    .dataframe tbody tr th {\n",
              "        vertical-align: top;\n",
              "    }\n",
              "\n",
              "    .dataframe thead th {\n",
              "        text-align: right;\n",
              "    }\n",
              "</style>\n",
              "<table border=\"1\" class=\"dataframe\">\n",
              "  <thead>\n",
              "    <tr style=\"text-align: right;\">\n",
              "      <th></th>\n",
              "      <th>name</th>\n",
              "    </tr>\n",
              "  </thead>\n",
              "  <tbody>\n",
              "    <tr>\n",
              "      <th>0</th>\n",
              "      <td>package_data</td>\n",
              "    </tr>\n",
              "    <tr>\n",
              "      <th>1</th>\n",
              "      <td>download_data</td>\n",
              "    </tr>\n",
              "    <tr>\n",
              "      <th>2</th>\n",
              "      <td>package_metrics</td>\n",
              "    </tr>\n",
              "    <tr>\n",
              "      <th>3</th>\n",
              "      <td>temp_table</td>\n",
              "    </tr>\n",
              "    <tr>\n",
              "      <th>4</th>\n",
              "      <td>metric_analysis</td>\n",
              "    </tr>\n",
              "  </tbody>\n",
              "</table>\n",
              "</div>\n",
              "    <div class=\"colab-df-buttons\">\n",
              "\n",
              "  <div class=\"colab-df-container\">\n",
              "    <button class=\"colab-df-convert\" onclick=\"convertToInteractive('df-2c8d076e-0440-433d-a8d6-990a8e2a7270')\"\n",
              "            title=\"Convert this dataframe to an interactive table.\"\n",
              "            style=\"display:none;\">\n",
              "\n",
              "  <svg xmlns=\"http://www.w3.org/2000/svg\" height=\"24px\" viewBox=\"0 -960 960 960\">\n",
              "    <path d=\"M120-120v-720h720v720H120Zm60-500h600v-160H180v160Zm220 220h160v-160H400v160Zm0 220h160v-160H400v160ZM180-400h160v-160H180v160Zm440 0h160v-160H620v160ZM180-180h160v-160H180v160Zm440 0h160v-160H620v160Z\"/>\n",
              "  </svg>\n",
              "    </button>\n",
              "\n",
              "  <style>\n",
              "    .colab-df-container {\n",
              "      display:flex;\n",
              "      gap: 12px;\n",
              "    }\n",
              "\n",
              "    .colab-df-convert {\n",
              "      background-color: #E8F0FE;\n",
              "      border: none;\n",
              "      border-radius: 50%;\n",
              "      cursor: pointer;\n",
              "      display: none;\n",
              "      fill: #1967D2;\n",
              "      height: 32px;\n",
              "      padding: 0 0 0 0;\n",
              "      width: 32px;\n",
              "    }\n",
              "\n",
              "    .colab-df-convert:hover {\n",
              "      background-color: #E2EBFA;\n",
              "      box-shadow: 0px 1px 2px rgba(60, 64, 67, 0.3), 0px 1px 3px 1px rgba(60, 64, 67, 0.15);\n",
              "      fill: #174EA6;\n",
              "    }\n",
              "\n",
              "    .colab-df-buttons div {\n",
              "      margin-bottom: 4px;\n",
              "    }\n",
              "\n",
              "    [theme=dark] .colab-df-convert {\n",
              "      background-color: #3B4455;\n",
              "      fill: #D2E3FC;\n",
              "    }\n",
              "\n",
              "    [theme=dark] .colab-df-convert:hover {\n",
              "      background-color: #434B5C;\n",
              "      box-shadow: 0px 1px 3px 1px rgba(0, 0, 0, 0.15);\n",
              "      filter: drop-shadow(0px 1px 2px rgba(0, 0, 0, 0.3));\n",
              "      fill: #FFFFFF;\n",
              "    }\n",
              "  </style>\n",
              "\n",
              "    <script>\n",
              "      const buttonEl =\n",
              "        document.querySelector('#df-2c8d076e-0440-433d-a8d6-990a8e2a7270 button.colab-df-convert');\n",
              "      buttonEl.style.display =\n",
              "        google.colab.kernel.accessAllowed ? 'block' : 'none';\n",
              "\n",
              "      async function convertToInteractive(key) {\n",
              "        const element = document.querySelector('#df-2c8d076e-0440-433d-a8d6-990a8e2a7270');\n",
              "        const dataTable =\n",
              "          await google.colab.kernel.invokeFunction('convertToInteractive',\n",
              "                                                    [key], {});\n",
              "        if (!dataTable) return;\n",
              "\n",
              "        const docLinkHtml = 'Like what you see? Visit the ' +\n",
              "          '<a target=\"_blank\" href=https://colab.research.google.com/notebooks/data_table.ipynb>data table notebook</a>'\n",
              "          + ' to learn more about interactive tables.';\n",
              "        element.innerHTML = '';\n",
              "        dataTable['output_type'] = 'display_data';\n",
              "        await google.colab.output.renderOutput(dataTable, element);\n",
              "        const docLink = document.createElement('div');\n",
              "        docLink.innerHTML = docLinkHtml;\n",
              "        element.appendChild(docLink);\n",
              "      }\n",
              "    </script>\n",
              "  </div>\n",
              "\n",
              "\n",
              "<div id=\"df-3985086a-66e9-4b7b-8db9-548cdde348df\">\n",
              "  <button class=\"colab-df-quickchart\" onclick=\"quickchart('df-3985086a-66e9-4b7b-8db9-548cdde348df')\"\n",
              "            title=\"Suggest charts\"\n",
              "            style=\"display:none;\">\n",
              "\n",
              "<svg xmlns=\"http://www.w3.org/2000/svg\" height=\"24px\"viewBox=\"0 0 24 24\"\n",
              "     width=\"24px\">\n",
              "    <g>\n",
              "        <path d=\"M19 3H5c-1.1 0-2 .9-2 2v14c0 1.1.9 2 2 2h14c1.1 0 2-.9 2-2V5c0-1.1-.9-2-2-2zM9 17H7v-7h2v7zm4 0h-2V7h2v10zm4 0h-2v-4h2v4z\"/>\n",
              "    </g>\n",
              "</svg>\n",
              "  </button>\n",
              "\n",
              "<style>\n",
              "  .colab-df-quickchart {\n",
              "      --bg-color: #E8F0FE;\n",
              "      --fill-color: #1967D2;\n",
              "      --hover-bg-color: #E2EBFA;\n",
              "      --hover-fill-color: #174EA6;\n",
              "      --disabled-fill-color: #AAA;\n",
              "      --disabled-bg-color: #DDD;\n",
              "  }\n",
              "\n",
              "  [theme=dark] .colab-df-quickchart {\n",
              "      --bg-color: #3B4455;\n",
              "      --fill-color: #D2E3FC;\n",
              "      --hover-bg-color: #434B5C;\n",
              "      --hover-fill-color: #FFFFFF;\n",
              "      --disabled-bg-color: #3B4455;\n",
              "      --disabled-fill-color: #666;\n",
              "  }\n",
              "\n",
              "  .colab-df-quickchart {\n",
              "    background-color: var(--bg-color);\n",
              "    border: none;\n",
              "    border-radius: 50%;\n",
              "    cursor: pointer;\n",
              "    display: none;\n",
              "    fill: var(--fill-color);\n",
              "    height: 32px;\n",
              "    padding: 0;\n",
              "    width: 32px;\n",
              "  }\n",
              "\n",
              "  .colab-df-quickchart:hover {\n",
              "    background-color: var(--hover-bg-color);\n",
              "    box-shadow: 0 1px 2px rgba(60, 64, 67, 0.3), 0 1px 3px 1px rgba(60, 64, 67, 0.15);\n",
              "    fill: var(--button-hover-fill-color);\n",
              "  }\n",
              "\n",
              "  .colab-df-quickchart-complete:disabled,\n",
              "  .colab-df-quickchart-complete:disabled:hover {\n",
              "    background-color: var(--disabled-bg-color);\n",
              "    fill: var(--disabled-fill-color);\n",
              "    box-shadow: none;\n",
              "  }\n",
              "\n",
              "  .colab-df-spinner {\n",
              "    border: 2px solid var(--fill-color);\n",
              "    border-color: transparent;\n",
              "    border-bottom-color: var(--fill-color);\n",
              "    animation:\n",
              "      spin 1s steps(1) infinite;\n",
              "  }\n",
              "\n",
              "  @keyframes spin {\n",
              "    0% {\n",
              "      border-color: transparent;\n",
              "      border-bottom-color: var(--fill-color);\n",
              "      border-left-color: var(--fill-color);\n",
              "    }\n",
              "    20% {\n",
              "      border-color: transparent;\n",
              "      border-left-color: var(--fill-color);\n",
              "      border-top-color: var(--fill-color);\n",
              "    }\n",
              "    30% {\n",
              "      border-color: transparent;\n",
              "      border-left-color: var(--fill-color);\n",
              "      border-top-color: var(--fill-color);\n",
              "      border-right-color: var(--fill-color);\n",
              "    }\n",
              "    40% {\n",
              "      border-color: transparent;\n",
              "      border-right-color: var(--fill-color);\n",
              "      border-top-color: var(--fill-color);\n",
              "    }\n",
              "    60% {\n",
              "      border-color: transparent;\n",
              "      border-right-color: var(--fill-color);\n",
              "    }\n",
              "    80% {\n",
              "      border-color: transparent;\n",
              "      border-right-color: var(--fill-color);\n",
              "      border-bottom-color: var(--fill-color);\n",
              "    }\n",
              "    90% {\n",
              "      border-color: transparent;\n",
              "      border-bottom-color: var(--fill-color);\n",
              "    }\n",
              "  }\n",
              "</style>\n",
              "\n",
              "  <script>\n",
              "    async function quickchart(key) {\n",
              "      const quickchartButtonEl =\n",
              "        document.querySelector('#' + key + ' button');\n",
              "      quickchartButtonEl.disabled = true;  // To prevent multiple clicks.\n",
              "      quickchartButtonEl.classList.add('colab-df-spinner');\n",
              "      try {\n",
              "        const charts = await google.colab.kernel.invokeFunction(\n",
              "            'suggestCharts', [key], {});\n",
              "      } catch (error) {\n",
              "        console.error('Error during call to suggestCharts:', error);\n",
              "      }\n",
              "      quickchartButtonEl.classList.remove('colab-df-spinner');\n",
              "      quickchartButtonEl.classList.add('colab-df-quickchart-complete');\n",
              "    }\n",
              "    (() => {\n",
              "      let quickchartButtonEl =\n",
              "        document.querySelector('#df-3985086a-66e9-4b7b-8db9-548cdde348df button');\n",
              "      quickchartButtonEl.style.display =\n",
              "        google.colab.kernel.accessAllowed ? 'block' : 'none';\n",
              "    })();\n",
              "  </script>\n",
              "</div>\n",
              "    </div>\n",
              "  </div>\n"
            ],
            "application/vnd.google.colaboratory.intrinsic+json": {
              "type": "dataframe",
              "summary": "{\n  \"name\": \"get_df(\\\"SELECT name FROM sqlite_master WHERE type='table'\\\", conn)\",\n  \"rows\": 5,\n  \"fields\": [\n    {\n      \"column\": \"name\",\n      \"properties\": {\n        \"dtype\": \"string\",\n        \"num_unique_values\": 5,\n        \"samples\": [\n          \"download_data\",\n          \"metric_analysis\",\n          \"package_metrics\"\n        ],\n        \"semantic_type\": \"\",\n        \"description\": \"\"\n      }\n    }\n  ]\n}"
            }
          },
          "metadata": {},
          "execution_count": 4
        }
      ]
    },
    {
      "cell_type": "code",
      "source": [
        "df = get_df(\"SELECT * FROM metric_analysis\", conn)\n",
        "df"
      ],
      "metadata": {
        "colab": {
          "base_uri": "https://localhost:8080/",
          "height": 600
        },
        "id": "2llmzFqXdj6B",
        "outputId": "63c3e0fe-07b1-46d1-d310-414545ceb103"
      },
      "execution_count": null,
      "outputs": [
        {
          "output_type": "execute_result",
          "data": {
            "text/plain": [
              "                            package is_deprecated dependants_count forks  \\\n",
              "0         @gerrico/react-components          None             None  None   \n",
              "1      express-simple-app-generator          None             None  None   \n",
              "2                 generator-giraffe          None             None  None   \n",
              "3                   outdated-client          None             None  None   \n",
              "4      @semi-bot/semi-theme-shopify          None             None  None   \n",
              "...                             ...           ...              ...   ...   \n",
              "29995                    haribotify          None             None  None   \n",
              "29996        eslint-config-sharecar          None             None  None   \n",
              "29997              webpack-to-ardoq          None             None  None   \n",
              "29998         zywave-content-search          None             None  None   \n",
              "29999                      ngdoc-md          None             None  None   \n",
              "\n",
              "      issues    pr contributors unpack_size total_lines_of_code  sloc  \\\n",
              "0       None  None         None        None                None  None   \n",
              "1       None  None         None        None                None  None   \n",
              "2       None  None         None        None                None  None   \n",
              "3       None  None         None        None                None  None   \n",
              "4       None  None         None        None                None  None   \n",
              "...      ...   ...          ...         ...                 ...   ...   \n",
              "29995   None  None         None        None                None  None   \n",
              "29996   None  None         None        None                None  None   \n",
              "29997   None  None         None        None                None  None   \n",
              "29998   None  None         None        None                None  None   \n",
              "29999   None  None         None        None                None  None   \n",
              "\n",
              "      days_since_last_modification avg_commit_freq threat_score file_count  \\\n",
              "0                             None            None         None       None   \n",
              "1                             None            None         None       None   \n",
              "2                             None            None         None       None   \n",
              "3                             None            None         None       None   \n",
              "4                             None            None         None       None   \n",
              "...                            ...             ...          ...        ...   \n",
              "29995                         None            None         None       None   \n",
              "29996                         None            None         None       None   \n",
              "29997                         None            None         None       None   \n",
              "29998                         None            None         None       None   \n",
              "29999                         None            None         None       None   \n",
              "\n",
              "      state  \n",
              "0      None  \n",
              "1      None  \n",
              "2      None  \n",
              "3      None  \n",
              "4      None  \n",
              "...     ...  \n",
              "29995  None  \n",
              "29996  None  \n",
              "29997  None  \n",
              "29998  None  \n",
              "29999  None  \n",
              "\n",
              "[30000 rows x 15 columns]"
            ],
            "text/html": [
              "\n",
              "  <div id=\"df-b20bc044-f589-42d6-b99b-bc96680f5fd3\" class=\"colab-df-container\">\n",
              "    <div>\n",
              "<style scoped>\n",
              "    .dataframe tbody tr th:only-of-type {\n",
              "        vertical-align: middle;\n",
              "    }\n",
              "\n",
              "    .dataframe tbody tr th {\n",
              "        vertical-align: top;\n",
              "    }\n",
              "\n",
              "    .dataframe thead th {\n",
              "        text-align: right;\n",
              "    }\n",
              "</style>\n",
              "<table border=\"1\" class=\"dataframe\">\n",
              "  <thead>\n",
              "    <tr style=\"text-align: right;\">\n",
              "      <th></th>\n",
              "      <th>package</th>\n",
              "      <th>is_deprecated</th>\n",
              "      <th>dependants_count</th>\n",
              "      <th>forks</th>\n",
              "      <th>issues</th>\n",
              "      <th>pr</th>\n",
              "      <th>contributors</th>\n",
              "      <th>unpack_size</th>\n",
              "      <th>total_lines_of_code</th>\n",
              "      <th>sloc</th>\n",
              "      <th>days_since_last_modification</th>\n",
              "      <th>avg_commit_freq</th>\n",
              "      <th>threat_score</th>\n",
              "      <th>file_count</th>\n",
              "      <th>state</th>\n",
              "    </tr>\n",
              "  </thead>\n",
              "  <tbody>\n",
              "    <tr>\n",
              "      <th>0</th>\n",
              "      <td>@gerrico/react-components</td>\n",
              "      <td>None</td>\n",
              "      <td>None</td>\n",
              "      <td>None</td>\n",
              "      <td>None</td>\n",
              "      <td>None</td>\n",
              "      <td>None</td>\n",
              "      <td>None</td>\n",
              "      <td>None</td>\n",
              "      <td>None</td>\n",
              "      <td>None</td>\n",
              "      <td>None</td>\n",
              "      <td>None</td>\n",
              "      <td>None</td>\n",
              "      <td>None</td>\n",
              "    </tr>\n",
              "    <tr>\n",
              "      <th>1</th>\n",
              "      <td>express-simple-app-generator</td>\n",
              "      <td>None</td>\n",
              "      <td>None</td>\n",
              "      <td>None</td>\n",
              "      <td>None</td>\n",
              "      <td>None</td>\n",
              "      <td>None</td>\n",
              "      <td>None</td>\n",
              "      <td>None</td>\n",
              "      <td>None</td>\n",
              "      <td>None</td>\n",
              "      <td>None</td>\n",
              "      <td>None</td>\n",
              "      <td>None</td>\n",
              "      <td>None</td>\n",
              "    </tr>\n",
              "    <tr>\n",
              "      <th>2</th>\n",
              "      <td>generator-giraffe</td>\n",
              "      <td>None</td>\n",
              "      <td>None</td>\n",
              "      <td>None</td>\n",
              "      <td>None</td>\n",
              "      <td>None</td>\n",
              "      <td>None</td>\n",
              "      <td>None</td>\n",
              "      <td>None</td>\n",
              "      <td>None</td>\n",
              "      <td>None</td>\n",
              "      <td>None</td>\n",
              "      <td>None</td>\n",
              "      <td>None</td>\n",
              "      <td>None</td>\n",
              "    </tr>\n",
              "    <tr>\n",
              "      <th>3</th>\n",
              "      <td>outdated-client</td>\n",
              "      <td>None</td>\n",
              "      <td>None</td>\n",
              "      <td>None</td>\n",
              "      <td>None</td>\n",
              "      <td>None</td>\n",
              "      <td>None</td>\n",
              "      <td>None</td>\n",
              "      <td>None</td>\n",
              "      <td>None</td>\n",
              "      <td>None</td>\n",
              "      <td>None</td>\n",
              "      <td>None</td>\n",
              "      <td>None</td>\n",
              "      <td>None</td>\n",
              "    </tr>\n",
              "    <tr>\n",
              "      <th>4</th>\n",
              "      <td>@semi-bot/semi-theme-shopify</td>\n",
              "      <td>None</td>\n",
              "      <td>None</td>\n",
              "      <td>None</td>\n",
              "      <td>None</td>\n",
              "      <td>None</td>\n",
              "      <td>None</td>\n",
              "      <td>None</td>\n",
              "      <td>None</td>\n",
              "      <td>None</td>\n",
              "      <td>None</td>\n",
              "      <td>None</td>\n",
              "      <td>None</td>\n",
              "      <td>None</td>\n",
              "      <td>None</td>\n",
              "    </tr>\n",
              "    <tr>\n",
              "      <th>...</th>\n",
              "      <td>...</td>\n",
              "      <td>...</td>\n",
              "      <td>...</td>\n",
              "      <td>...</td>\n",
              "      <td>...</td>\n",
              "      <td>...</td>\n",
              "      <td>...</td>\n",
              "      <td>...</td>\n",
              "      <td>...</td>\n",
              "      <td>...</td>\n",
              "      <td>...</td>\n",
              "      <td>...</td>\n",
              "      <td>...</td>\n",
              "      <td>...</td>\n",
              "      <td>...</td>\n",
              "    </tr>\n",
              "    <tr>\n",
              "      <th>29995</th>\n",
              "      <td>haribotify</td>\n",
              "      <td>None</td>\n",
              "      <td>None</td>\n",
              "      <td>None</td>\n",
              "      <td>None</td>\n",
              "      <td>None</td>\n",
              "      <td>None</td>\n",
              "      <td>None</td>\n",
              "      <td>None</td>\n",
              "      <td>None</td>\n",
              "      <td>None</td>\n",
              "      <td>None</td>\n",
              "      <td>None</td>\n",
              "      <td>None</td>\n",
              "      <td>None</td>\n",
              "    </tr>\n",
              "    <tr>\n",
              "      <th>29996</th>\n",
              "      <td>eslint-config-sharecar</td>\n",
              "      <td>None</td>\n",
              "      <td>None</td>\n",
              "      <td>None</td>\n",
              "      <td>None</td>\n",
              "      <td>None</td>\n",
              "      <td>None</td>\n",
              "      <td>None</td>\n",
              "      <td>None</td>\n",
              "      <td>None</td>\n",
              "      <td>None</td>\n",
              "      <td>None</td>\n",
              "      <td>None</td>\n",
              "      <td>None</td>\n",
              "      <td>None</td>\n",
              "    </tr>\n",
              "    <tr>\n",
              "      <th>29997</th>\n",
              "      <td>webpack-to-ardoq</td>\n",
              "      <td>None</td>\n",
              "      <td>None</td>\n",
              "      <td>None</td>\n",
              "      <td>None</td>\n",
              "      <td>None</td>\n",
              "      <td>None</td>\n",
              "      <td>None</td>\n",
              "      <td>None</td>\n",
              "      <td>None</td>\n",
              "      <td>None</td>\n",
              "      <td>None</td>\n",
              "      <td>None</td>\n",
              "      <td>None</td>\n",
              "      <td>None</td>\n",
              "    </tr>\n",
              "    <tr>\n",
              "      <th>29998</th>\n",
              "      <td>zywave-content-search</td>\n",
              "      <td>None</td>\n",
              "      <td>None</td>\n",
              "      <td>None</td>\n",
              "      <td>None</td>\n",
              "      <td>None</td>\n",
              "      <td>None</td>\n",
              "      <td>None</td>\n",
              "      <td>None</td>\n",
              "      <td>None</td>\n",
              "      <td>None</td>\n",
              "      <td>None</td>\n",
              "      <td>None</td>\n",
              "      <td>None</td>\n",
              "      <td>None</td>\n",
              "    </tr>\n",
              "    <tr>\n",
              "      <th>29999</th>\n",
              "      <td>ngdoc-md</td>\n",
              "      <td>None</td>\n",
              "      <td>None</td>\n",
              "      <td>None</td>\n",
              "      <td>None</td>\n",
              "      <td>None</td>\n",
              "      <td>None</td>\n",
              "      <td>None</td>\n",
              "      <td>None</td>\n",
              "      <td>None</td>\n",
              "      <td>None</td>\n",
              "      <td>None</td>\n",
              "      <td>None</td>\n",
              "      <td>None</td>\n",
              "      <td>None</td>\n",
              "    </tr>\n",
              "  </tbody>\n",
              "</table>\n",
              "<p>30000 rows × 15 columns</p>\n",
              "</div>\n",
              "    <div class=\"colab-df-buttons\">\n",
              "\n",
              "  <div class=\"colab-df-container\">\n",
              "    <button class=\"colab-df-convert\" onclick=\"convertToInteractive('df-b20bc044-f589-42d6-b99b-bc96680f5fd3')\"\n",
              "            title=\"Convert this dataframe to an interactive table.\"\n",
              "            style=\"display:none;\">\n",
              "\n",
              "  <svg xmlns=\"http://www.w3.org/2000/svg\" height=\"24px\" viewBox=\"0 -960 960 960\">\n",
              "    <path d=\"M120-120v-720h720v720H120Zm60-500h600v-160H180v160Zm220 220h160v-160H400v160Zm0 220h160v-160H400v160ZM180-400h160v-160H180v160Zm440 0h160v-160H620v160ZM180-180h160v-160H180v160Zm440 0h160v-160H620v160Z\"/>\n",
              "  </svg>\n",
              "    </button>\n",
              "\n",
              "  <style>\n",
              "    .colab-df-container {\n",
              "      display:flex;\n",
              "      gap: 12px;\n",
              "    }\n",
              "\n",
              "    .colab-df-convert {\n",
              "      background-color: #E8F0FE;\n",
              "      border: none;\n",
              "      border-radius: 50%;\n",
              "      cursor: pointer;\n",
              "      display: none;\n",
              "      fill: #1967D2;\n",
              "      height: 32px;\n",
              "      padding: 0 0 0 0;\n",
              "      width: 32px;\n",
              "    }\n",
              "\n",
              "    .colab-df-convert:hover {\n",
              "      background-color: #E2EBFA;\n",
              "      box-shadow: 0px 1px 2px rgba(60, 64, 67, 0.3), 0px 1px 3px 1px rgba(60, 64, 67, 0.15);\n",
              "      fill: #174EA6;\n",
              "    }\n",
              "\n",
              "    .colab-df-buttons div {\n",
              "      margin-bottom: 4px;\n",
              "    }\n",
              "\n",
              "    [theme=dark] .colab-df-convert {\n",
              "      background-color: #3B4455;\n",
              "      fill: #D2E3FC;\n",
              "    }\n",
              "\n",
              "    [theme=dark] .colab-df-convert:hover {\n",
              "      background-color: #434B5C;\n",
              "      box-shadow: 0px 1px 3px 1px rgba(0, 0, 0, 0.15);\n",
              "      filter: drop-shadow(0px 1px 2px rgba(0, 0, 0, 0.3));\n",
              "      fill: #FFFFFF;\n",
              "    }\n",
              "  </style>\n",
              "\n",
              "    <script>\n",
              "      const buttonEl =\n",
              "        document.querySelector('#df-b20bc044-f589-42d6-b99b-bc96680f5fd3 button.colab-df-convert');\n",
              "      buttonEl.style.display =\n",
              "        google.colab.kernel.accessAllowed ? 'block' : 'none';\n",
              "\n",
              "      async function convertToInteractive(key) {\n",
              "        const element = document.querySelector('#df-b20bc044-f589-42d6-b99b-bc96680f5fd3');\n",
              "        const dataTable =\n",
              "          await google.colab.kernel.invokeFunction('convertToInteractive',\n",
              "                                                    [key], {});\n",
              "        if (!dataTable) return;\n",
              "\n",
              "        const docLinkHtml = 'Like what you see? Visit the ' +\n",
              "          '<a target=\"_blank\" href=https://colab.research.google.com/notebooks/data_table.ipynb>data table notebook</a>'\n",
              "          + ' to learn more about interactive tables.';\n",
              "        element.innerHTML = '';\n",
              "        dataTable['output_type'] = 'display_data';\n",
              "        await google.colab.output.renderOutput(dataTable, element);\n",
              "        const docLink = document.createElement('div');\n",
              "        docLink.innerHTML = docLinkHtml;\n",
              "        element.appendChild(docLink);\n",
              "      }\n",
              "    </script>\n",
              "  </div>\n",
              "\n",
              "\n",
              "<div id=\"df-f1429c41-a95b-474e-94e8-af7a735d01b2\">\n",
              "  <button class=\"colab-df-quickchart\" onclick=\"quickchart('df-f1429c41-a95b-474e-94e8-af7a735d01b2')\"\n",
              "            title=\"Suggest charts\"\n",
              "            style=\"display:none;\">\n",
              "\n",
              "<svg xmlns=\"http://www.w3.org/2000/svg\" height=\"24px\"viewBox=\"0 0 24 24\"\n",
              "     width=\"24px\">\n",
              "    <g>\n",
              "        <path d=\"M19 3H5c-1.1 0-2 .9-2 2v14c0 1.1.9 2 2 2h14c1.1 0 2-.9 2-2V5c0-1.1-.9-2-2-2zM9 17H7v-7h2v7zm4 0h-2V7h2v10zm4 0h-2v-4h2v4z\"/>\n",
              "    </g>\n",
              "</svg>\n",
              "  </button>\n",
              "\n",
              "<style>\n",
              "  .colab-df-quickchart {\n",
              "      --bg-color: #E8F0FE;\n",
              "      --fill-color: #1967D2;\n",
              "      --hover-bg-color: #E2EBFA;\n",
              "      --hover-fill-color: #174EA6;\n",
              "      --disabled-fill-color: #AAA;\n",
              "      --disabled-bg-color: #DDD;\n",
              "  }\n",
              "\n",
              "  [theme=dark] .colab-df-quickchart {\n",
              "      --bg-color: #3B4455;\n",
              "      --fill-color: #D2E3FC;\n",
              "      --hover-bg-color: #434B5C;\n",
              "      --hover-fill-color: #FFFFFF;\n",
              "      --disabled-bg-color: #3B4455;\n",
              "      --disabled-fill-color: #666;\n",
              "  }\n",
              "\n",
              "  .colab-df-quickchart {\n",
              "    background-color: var(--bg-color);\n",
              "    border: none;\n",
              "    border-radius: 50%;\n",
              "    cursor: pointer;\n",
              "    display: none;\n",
              "    fill: var(--fill-color);\n",
              "    height: 32px;\n",
              "    padding: 0;\n",
              "    width: 32px;\n",
              "  }\n",
              "\n",
              "  .colab-df-quickchart:hover {\n",
              "    background-color: var(--hover-bg-color);\n",
              "    box-shadow: 0 1px 2px rgba(60, 64, 67, 0.3), 0 1px 3px 1px rgba(60, 64, 67, 0.15);\n",
              "    fill: var(--button-hover-fill-color);\n",
              "  }\n",
              "\n",
              "  .colab-df-quickchart-complete:disabled,\n",
              "  .colab-df-quickchart-complete:disabled:hover {\n",
              "    background-color: var(--disabled-bg-color);\n",
              "    fill: var(--disabled-fill-color);\n",
              "    box-shadow: none;\n",
              "  }\n",
              "\n",
              "  .colab-df-spinner {\n",
              "    border: 2px solid var(--fill-color);\n",
              "    border-color: transparent;\n",
              "    border-bottom-color: var(--fill-color);\n",
              "    animation:\n",
              "      spin 1s steps(1) infinite;\n",
              "  }\n",
              "\n",
              "  @keyframes spin {\n",
              "    0% {\n",
              "      border-color: transparent;\n",
              "      border-bottom-color: var(--fill-color);\n",
              "      border-left-color: var(--fill-color);\n",
              "    }\n",
              "    20% {\n",
              "      border-color: transparent;\n",
              "      border-left-color: var(--fill-color);\n",
              "      border-top-color: var(--fill-color);\n",
              "    }\n",
              "    30% {\n",
              "      border-color: transparent;\n",
              "      border-left-color: var(--fill-color);\n",
              "      border-top-color: var(--fill-color);\n",
              "      border-right-color: var(--fill-color);\n",
              "    }\n",
              "    40% {\n",
              "      border-color: transparent;\n",
              "      border-right-color: var(--fill-color);\n",
              "      border-top-color: var(--fill-color);\n",
              "    }\n",
              "    60% {\n",
              "      border-color: transparent;\n",
              "      border-right-color: var(--fill-color);\n",
              "    }\n",
              "    80% {\n",
              "      border-color: transparent;\n",
              "      border-right-color: var(--fill-color);\n",
              "      border-bottom-color: var(--fill-color);\n",
              "    }\n",
              "    90% {\n",
              "      border-color: transparent;\n",
              "      border-bottom-color: var(--fill-color);\n",
              "    }\n",
              "  }\n",
              "</style>\n",
              "\n",
              "  <script>\n",
              "    async function quickchart(key) {\n",
              "      const quickchartButtonEl =\n",
              "        document.querySelector('#' + key + ' button');\n",
              "      quickchartButtonEl.disabled = true;  // To prevent multiple clicks.\n",
              "      quickchartButtonEl.classList.add('colab-df-spinner');\n",
              "      try {\n",
              "        const charts = await google.colab.kernel.invokeFunction(\n",
              "            'suggestCharts', [key], {});\n",
              "      } catch (error) {\n",
              "        console.error('Error during call to suggestCharts:', error);\n",
              "      }\n",
              "      quickchartButtonEl.classList.remove('colab-df-spinner');\n",
              "      quickchartButtonEl.classList.add('colab-df-quickchart-complete');\n",
              "    }\n",
              "    (() => {\n",
              "      let quickchartButtonEl =\n",
              "        document.querySelector('#df-f1429c41-a95b-474e-94e8-af7a735d01b2 button');\n",
              "      quickchartButtonEl.style.display =\n",
              "        google.colab.kernel.accessAllowed ? 'block' : 'none';\n",
              "    })();\n",
              "  </script>\n",
              "</div>\n",
              "    </div>\n",
              "  </div>\n"
            ],
            "application/vnd.google.colaboratory.intrinsic+json": {
              "type": "dataframe",
              "variable_name": "df",
              "repr_error": "Out of range float values are not JSON compliant: nan"
            }
          },
          "metadata": {},
          "execution_count": 15
        }
      ]
    },
    {
      "cell_type": "code",
      "source": [
        "df = get_df(\"SELECT DISTINCT package FROM package_data\", conn)\n",
        "print('Total unique rows present:', len(df))"
      ],
      "metadata": {
        "colab": {
          "base_uri": "https://localhost:8080/"
        },
        "id": "Z3d-nR8GFRAG",
        "outputId": "813f526c-570e-4abf-e609-1c846ba13f72"
      },
      "execution_count": null,
      "outputs": [
        {
          "output_type": "stream",
          "name": "stdout",
          "text": [
            "Total unique rows present: 30000\n"
          ]
        }
      ]
    },
    {
      "cell_type": "code",
      "source": [
        "sql_query = \"\"\"\n",
        "    SELECT * FROM package_data\n",
        "    WHERE npm_api_status = '200';\n",
        "\"\"\"\n",
        "df = get_df(sql_query, conn)\n",
        "print('Total valid packages mined:', len(df))\n",
        "# df"
      ],
      "metadata": {
        "colab": {
          "base_uri": "https://localhost:8080/"
        },
        "id": "MnC0MFmeVeOK",
        "outputId": "6bf7b6d0-1275-4806-8551-411cbe7c32f5"
      },
      "execution_count": null,
      "outputs": [
        {
          "output_type": "stream",
          "name": "stdout",
          "text": [
            "Total valid packages mined: 29792\n"
          ]
        }
      ]
    },
    {
      "cell_type": "code",
      "source": [
        "sql_query = \"\"\"\n",
        "    SELECT * FROM package_data\n",
        "    WHERE npm_api_status = '404';\n",
        "\"\"\"\n",
        "df = get_df(sql_query, conn)\n",
        "print('Total packages not found:', len(df))\n",
        "# df"
      ],
      "metadata": {
        "colab": {
          "base_uri": "https://localhost:8080/"
        },
        "id": "JddOD214oz1H",
        "outputId": "7a5cb9d9-9b28-4882-9ceb-f28cb4623099"
      },
      "execution_count": null,
      "outputs": [
        {
          "output_type": "stream",
          "name": "stdout",
          "text": [
            "Total packages not found: 208\n"
          ]
        }
      ]
    },
    {
      "cell_type": "code",
      "source": [
        "df = get_valid_values_of_column(conn, 'unpublished_timestamp')\n",
        "print('Total packages that have been unpublished:', len(df))\n",
        "# df"
      ],
      "metadata": {
        "colab": {
          "base_uri": "https://localhost:8080/"
        },
        "id": "6lW4Sp2XsOsU",
        "outputId": "04e34544-cf63-44e3-9f13-8a970223bafd"
      },
      "execution_count": null,
      "outputs": [
        {
          "output_type": "stream",
          "name": "stdout",
          "text": [
            "Total packages that have been unpublished: 342\n"
          ]
        }
      ]
    },
    {
      "cell_type": "code",
      "source": [
        "sql_query = \"\"\"\n",
        "    SELECT * FROM package_data\n",
        "    WHERE is_deprecated = '1';\n",
        "\"\"\"\n",
        "df = get_df(sql_query, conn)\n",
        "print('Total packages that have been deprecated:', len(df))\n",
        "# df"
      ],
      "metadata": {
        "colab": {
          "base_uri": "https://localhost:8080/"
        },
        "id": "4pfTlr6spPmW",
        "outputId": "160741e2-b535-4718-b85a-203180c68f5f"
      },
      "execution_count": null,
      "outputs": [
        {
          "output_type": "stream",
          "name": "stdout",
          "text": [
            "Total packages that have been deprecated: 1025\n"
          ]
        }
      ]
    },
    {
      "cell_type": "code",
      "source": [
        "df = get_valid_values_of_column(conn, 'lagging_dependencies_count')\n",
        "print('Total packages that have some value in lagging_dependencies_count:', len(df))\n",
        "# df"
      ],
      "metadata": {
        "colab": {
          "base_uri": "https://localhost:8080/"
        },
        "id": "b6nsgyR7LgRq",
        "outputId": "3f21806b-f936-4ce2-dee3-9b11a0d12fe7"
      },
      "execution_count": null,
      "outputs": [
        {
          "output_type": "stream",
          "name": "stdout",
          "text": [
            "Total packages that have some value in lagging_dependencies_count: 29450\n"
          ]
        }
      ]
    },
    {
      "cell_type": "code",
      "source": [
        "df = get_valid_values_of_column(conn, 'git_repository_url')\n",
        "print('Total packages that were able to give a github repo url:', len(df))\n",
        "# df"
      ],
      "metadata": {
        "colab": {
          "base_uri": "https://localhost:8080/"
        },
        "id": "kR-Anzp-GbpK",
        "outputId": "1f672bb4-5a34-4008-f729-89ce79bcd9fa"
      },
      "execution_count": null,
      "outputs": [
        {
          "output_type": "stream",
          "name": "stdout",
          "text": [
            "Total packages that were able to give a github repo url: 16859\n"
          ]
        }
      ]
    },
    {
      "cell_type": "code",
      "source": [
        "print('Distinct values of the column git_repository_status')\n",
        "get_distinct_values_from_column(conn, 'git_repository_status')"
      ],
      "metadata": {
        "colab": {
          "base_uri": "https://localhost:8080/"
        },
        "id": "CLYF7H-pxk6V",
        "outputId": "8a167f08-43e5-4be8-f41a-fd858c276fd4"
      },
      "execution_count": null,
      "outputs": [
        {
          "output_type": "stream",
          "name": "stdout",
          "text": [
            "Distinct values of the column git_repository_status\n"
          ]
        },
        {
          "output_type": "execute_result",
          "data": {
            "text/plain": [
              "['200', None, '404']"
            ]
          },
          "metadata": {},
          "execution_count": 12
        }
      ]
    },
    {
      "cell_type": "code",
      "source": [
        "sql_query = \"\"\"\n",
        "    SELECT * FROM package_data\n",
        "    WHERE git_repository_status = '404';\n",
        "\"\"\"\n",
        "df = get_df(sql_query, conn)\n",
        "print('Total packages that have invalid github url(repository not found):', len(df))\n",
        "# df"
      ],
      "metadata": {
        "colab": {
          "base_uri": "https://localhost:8080/"
        },
        "id": "1ScN3bxGyS5I",
        "outputId": "d097fa00-5006-43ae-bf5d-e4ed9dd892be"
      },
      "execution_count": null,
      "outputs": [
        {
          "output_type": "stream",
          "name": "stdout",
          "text": [
            "Total packages that have invalid github url(repository not found): 3433\n"
          ]
        }
      ]
    },
    {
      "cell_type": "code",
      "source": [
        "sql_query = \"\"\"\n",
        "    SELECT * FROM package_data\n",
        "    WHERE git_repository_status = '200';\n",
        "\"\"\"\n",
        "df = get_df(sql_query, conn)\n",
        "print('Total packages that have valid github url:', len(df))\n",
        "# df"
      ],
      "metadata": {
        "colab": {
          "base_uri": "https://localhost:8080/"
        },
        "id": "ze0WEnUnGpV7",
        "outputId": "812cb677-f6ea-4251-8ff7-9e6b9d77feba"
      },
      "execution_count": null,
      "outputs": [
        {
          "output_type": "stream",
          "name": "stdout",
          "text": [
            "Total packages that have valid github url: 13450\n"
          ]
        }
      ]
    },
    {
      "cell_type": "code",
      "source": [
        "sql_query = \"\"\"\n",
        "    SELECT * FROM package_data\n",
        "    WHERE file_count IS NOT NULL;\n",
        "\"\"\"\n",
        "df = get_df(sql_query, conn)\n",
        "print('Total packages that have valid file_count(from npm API):', len(df))\n",
        "# df\n",
        "sql_query = \"\"\"\n",
        "    SELECT * FROM package_data\n",
        "    WHERE no_of_files IS NOT NULL;\n",
        "\"\"\"\n",
        "df = get_df(sql_query, conn)\n",
        "print('Total packages that have valid file_count(from pydrilling github repo):', len(df))\n",
        "# df"
      ],
      "metadata": {
        "colab": {
          "base_uri": "https://localhost:8080/"
        },
        "id": "B1bEFAq_sCPh",
        "outputId": "5aa8e50e-cef3-4cba-8b13-e224dfa74803"
      },
      "execution_count": null,
      "outputs": [
        {
          "output_type": "stream",
          "name": "stdout",
          "text": [
            "Total packages that have valid file_count(from npm API): 23926\n",
            "Total packages that have valid file_count(from pydrilling github repo): 13450\n"
          ]
        }
      ]
    },
    {
      "cell_type": "code",
      "source": [
        "df1 = get_valid_values_of_column(conn, 'stars')\n",
        "print('Total packages that have valid stars:', len(df1))\n",
        "df = get_valid_values_of_column(conn, 'forks')\n",
        "print('Total packages that have valid forks:', len(df))\n",
        "df = get_valid_values_of_column(conn, 'watchers')\n",
        "print('Total packages that have valid watchers:', len(df))\n",
        "df = get_valid_values_of_column(conn, 'issues')\n",
        "print('Total packages that have valid issues:', len(df))\n",
        "df = get_valid_values_of_column(conn, 'pr')\n",
        "print('Total packages that have valid pr:', len(df))\n",
        "df = get_valid_values_of_column(conn, 'contributors')\n",
        "print('Total packages that have valid contributors:', len(df))\n",
        "df = get_valid_values_of_column(conn, 'no_of_commits')\n",
        "print('Total packages that have valid no_of_commits:', len(df))\n",
        "df2 = get_valid_values_of_column(conn, 'avg_commit_freq')\n",
        "print('Total packages that have valid avg_commit_freq:', len(df2))\n",
        "df2 = get_valid_values_of_column(conn, 'avg_commit_freq')\n",
        "print('Total packages with empty repository:', len(df1) - len(df2))\n",
        "print('Distinct values of the column repository_type: ', get_distinct_values_from_column(conn, 'repository_type'))"
      ],
      "metadata": {
        "colab": {
          "base_uri": "https://localhost:8080/"
        },
        "id": "gilO1JNmJfTU",
        "outputId": "ab789eba-65f3-46db-8401-96c9b4c06626"
      },
      "execution_count": null,
      "outputs": [
        {
          "output_type": "stream",
          "name": "stdout",
          "text": [
            "Total packages that have valid stars: 13450\n",
            "Total packages that have valid forks: 13450\n",
            "Total packages that have valid watchers: 13450\n",
            "Total packages that have valid issues: 13450\n",
            "Total packages that have valid pr: 13450\n",
            "Total packages that have valid contributors: 13405\n",
            "Total packages that have valid no_of_commits: 13406\n",
            "Total packages that have valid avg_commit_freq: 13406\n",
            "Total packages with empty repository: 44\n",
            "Distinct values of the column repository_type:  ['git', None, 'any', 'http', 'github', 'hg', '', 'git+https', 'vsts', 'private', 'Git', 'https', 'GIT', 'GitHub', 'gitlab', '???', 'git+ssh', 'gitee', 'bae', 'url', 'mercurial', 'darcs']\n"
          ]
        }
      ]
    },
    {
      "cell_type": "code",
      "source": [
        "print('Distinct values of the column gh_scrapping_status')\n",
        "print(get_distinct_values_from_column(conn, 'gh_scrapping_status'))\n",
        "sql_query = \"\"\"\n",
        "    SELECT * FROM package_data\n",
        "    WHERE gh_scrapping_status = '200';\n",
        "\"\"\"\n",
        "df = get_df(sql_query, conn)\n",
        "print('Total packages that have valid gh_scrapping_status:', len(df))"
      ],
      "metadata": {
        "colab": {
          "base_uri": "https://localhost:8080/"
        },
        "id": "8VQ95WCtJowA",
        "outputId": "d83b07c9-e59a-40ca-b210-815284167729"
      },
      "execution_count": null,
      "outputs": [
        {
          "output_type": "stream",
          "name": "stdout",
          "text": [
            "Distinct values of the column gh_scrapping_status\n",
            "['200', None]\n",
            "Total packages that have valid gh_scrapping_status: 13452\n"
          ]
        }
      ]
    },
    {
      "cell_type": "code",
      "source": [
        "print('Distinct values of the column contributors', get_distinct_values_from_column(conn, 'contributors'))"
      ],
      "metadata": {
        "colab": {
          "base_uri": "https://localhost:8080/"
        },
        "id": "JH4U1Ltwut0f",
        "outputId": "09e43eda-250b-4a73-c1d9-4b277a86d05b"
      },
      "execution_count": null,
      "outputs": [
        {
          "output_type": "stream",
          "name": "stdout",
          "text": [
            "Distinct values of the column contributors [1, None, 2, 0, 13, 514, 3, 8, 12, 5, 6, 9, 15, 768, 7, 62, 10, 16979, 4, 51, 16, 721, 91, 65, 24, 11, 89, 14, 217, 28, 56, 30, 39, 29, 92, 19, 165, 98, 85, 22, 187, 190, 23, 21, 20, 26, 40, 47, 18, 27, 213, 897, 60, 31, 134, 25, 113, 34, 52, 105, 37, 132, 112, 102, 42, 94, 58, 135, 203, 64, 35, 228, 373, 59, 109, 182, 394, 17, 43, 568, 2919, 86, 476, 137, 151, 168, 607, 359, 219, 138, 153, 82, 361, 162, 80, 532, 48, 136, 53, 50, 33, 81, 150, 46, 119, 814, 291, 54, 223, 174, 77, 71, 427, 170, 100, 44, 74, 140, 325, 422, 455, 164, 171, 103, 108, 1071, 453, 63, 183, 36, 66, 465, 201, 32, 131, 288, 67, 68, 248, 55, 41, 78, 244, 49, 148, 378, 1380, 214, 157, 298, 38, 668, 250, 72, 87, 406, 61, 622, 1105, 374, 209, 332, 663, 524, 351, 154, 255, 70, 220, 139, 116, 377, 324, 979, 278, 79, 45, 2614, 104, 95, 147, 272, 111, 142, 562, 612, 405, 97, 196, 258, 918, 115, 915, 387, 615, 1228, 126, 121, 96, 603, 125, 580, 795, 101, 454, 287, 3990, 83, 283, 124, 794, 236, 141, 127, 475, 69, 107, 541, 481, 122, 421, 1652, 270, 392, 853, 120, 193, 93, 251, 458, 1043, 123, 268, 128, 271, 1524, 396, 2071, 344, 313, 282, 207, 195, 159, 191, 1525, 330, 490, 409, 163, 199, 114, 224, 511, 363, 1387, 169, 460, 1858, 84, 390, 550, 408, 403, 133, 337, 198, 225, 238, 181, 1056, 75, 178, 450, 1392, 261, 315, 188, 365, 525, 252, 1138, 73, 1020, 202, 76, 719, 254, 376, 417, 469, 57, 570, 1651, 424, 130, 1048, 678, 155, 284, 118, 99, 308, 156, 487, 166, 106, 303, 862, 435, 302, 943, 221, 110, 305, 129, 206, 366, 245, 234, 205, 172, 370, 177, 718, 273]\n"
          ]
        }
      ]
    },
    {
      "cell_type": "code",
      "source": [
        "print('Distinct values of the column health_score')\n",
        "print(get_distinct_values_from_column(conn, 'health_score'))\n",
        "print('Distinct values of the column security')\n",
        "print(get_distinct_values_from_column(conn, 'security'))\n",
        "print('Distinct values of the column popularity')\n",
        "print(get_distinct_values_from_column(conn, 'popularity'))\n",
        "print('Distinct values of the column maintenance')\n",
        "print(get_distinct_values_from_column(conn, 'maintenance'))\n",
        "print('Distinct values of the column community')\n",
        "print(get_distinct_values_from_column(conn, 'community'))\n",
        "df = get_df(sql_query, conn)\n",
        "print('Distinct values of the column snyk_scrapping_status:\\n', get_distinct_values_from_column(conn, 'snyk_scrapping_status'))"
      ],
      "metadata": {
        "colab": {
          "base_uri": "https://localhost:8080/"
        },
        "id": "Farz6rDYZy0Y",
        "outputId": "7b7849a4-8ad8-43a6-df0f-67107a8a1bf5"
      },
      "execution_count": null,
      "outputs": [
        {
          "output_type": "stream",
          "name": "stdout",
          "text": [
            "Distinct values of the column health_score\n",
            "[30, 54, 36, 28, 40, 46, 57, 42, 50, 34, 43, None, 61, 89, 0, 48, 49, 55, 58, 37, 52, 53, 72, 45, 39, 44, 69, 56, 63, 67, 22, 41, 47, 59, 51, 74, 70, 31, 60, 73, 64, 79, 95, 65, 71, 84, 86, 80, 68, 38, 66, 83, 62, 82, 76, 77, 75, 78, 90, 87, 92, 88, 81, 85, 91, 20, 35, 24, 93, 33, 97, 98, 18, 100]\n",
            "Distinct values of the column security\n",
            "['SECURITY REVIEW NEEDED', 'NO KNOWN SECURITY ISSUES', None, 'SECURITY ISSUES FOUND', '?']\n",
            "Distinct values of the column popularity\n",
            "['LIMITED', None, 'INFLUENTIAL PROJECT', 'SMALL', 'RECOGNIZED', 'POPULAR', 'KEY ECOSYSTEM PROJECT']\n",
            "Distinct values of the column maintenance\n",
            "['INACTIVE', 'SUSTAINABLE', None, 'HEALTHY']\n",
            "Distinct values of the column community\n",
            "['LIMITED', None, 'SUSTAINABLE', 'ACTIVE']\n",
            "Distinct values of the column snyk_scrapping_status:\n",
            " ['200', '404']\n"
          ]
        }
      ]
    },
    {
      "cell_type": "code",
      "source": [
        "df = get_df(\"SELECT * from package_data WHERE security = '?'\", conn)\n",
        "df"
      ],
      "metadata": {
        "colab": {
          "base_uri": "https://localhost:8080/",
          "height": 199
        },
        "id": "3bj5KHngUH-E",
        "outputId": "f63ba15e-2829-4063-d5f2-b9211dd67ed1"
      },
      "execution_count": null,
      "outputs": [
        {
          "output_type": "execute_result",
          "data": {
            "text/plain": [
              "                             package npm_api_status latest_version  \\\n",
              "0  kuda-delsia-p2p-binance-axxz5zf0v            200           None   \n",
              "\n",
              "   no_of_versions keywords no_of_users has_readme has_homepage  \\\n",
              "0               1     None        None       None         None   \n",
              "\n",
              "    last_modified_timestamp         created_timestamp  ... security  \\\n",
              "0  2023-10-31T15:25:13.847Z  2023-04-21T22:40:05.486Z  ...        ?   \n",
              "\n",
              "  popularity maintenance  community avg_monthly_download  \\\n",
              "0    LIMITED    INACTIVE    LIMITED                 None   \n",
              "\n",
              "  days_since_last_modification security_numeric popularity_numeric  \\\n",
              "0                          114             None                 20   \n",
              "\n",
              "  maintenance_numeric community_numeric  \n",
              "0                   5                20  \n",
              "\n",
              "[1 rows x 56 columns]"
            ],
            "text/html": [
              "\n",
              "  <div id=\"df-94f34ca8-d674-4c30-8b83-9a09dad3165b\" class=\"colab-df-container\">\n",
              "    <div>\n",
              "<style scoped>\n",
              "    .dataframe tbody tr th:only-of-type {\n",
              "        vertical-align: middle;\n",
              "    }\n",
              "\n",
              "    .dataframe tbody tr th {\n",
              "        vertical-align: top;\n",
              "    }\n",
              "\n",
              "    .dataframe thead th {\n",
              "        text-align: right;\n",
              "    }\n",
              "</style>\n",
              "<table border=\"1\" class=\"dataframe\">\n",
              "  <thead>\n",
              "    <tr style=\"text-align: right;\">\n",
              "      <th></th>\n",
              "      <th>package</th>\n",
              "      <th>npm_api_status</th>\n",
              "      <th>latest_version</th>\n",
              "      <th>no_of_versions</th>\n",
              "      <th>keywords</th>\n",
              "      <th>no_of_users</th>\n",
              "      <th>has_readme</th>\n",
              "      <th>has_homepage</th>\n",
              "      <th>last_modified_timestamp</th>\n",
              "      <th>created_timestamp</th>\n",
              "      <th>...</th>\n",
              "      <th>security</th>\n",
              "      <th>popularity</th>\n",
              "      <th>maintenance</th>\n",
              "      <th>community</th>\n",
              "      <th>avg_monthly_download</th>\n",
              "      <th>days_since_last_modification</th>\n",
              "      <th>security_numeric</th>\n",
              "      <th>popularity_numeric</th>\n",
              "      <th>maintenance_numeric</th>\n",
              "      <th>community_numeric</th>\n",
              "    </tr>\n",
              "  </thead>\n",
              "  <tbody>\n",
              "    <tr>\n",
              "      <th>0</th>\n",
              "      <td>kuda-delsia-p2p-binance-axxz5zf0v</td>\n",
              "      <td>200</td>\n",
              "      <td>None</td>\n",
              "      <td>1</td>\n",
              "      <td>None</td>\n",
              "      <td>None</td>\n",
              "      <td>None</td>\n",
              "      <td>None</td>\n",
              "      <td>2023-10-31T15:25:13.847Z</td>\n",
              "      <td>2023-04-21T22:40:05.486Z</td>\n",
              "      <td>...</td>\n",
              "      <td>?</td>\n",
              "      <td>LIMITED</td>\n",
              "      <td>INACTIVE</td>\n",
              "      <td>LIMITED</td>\n",
              "      <td>None</td>\n",
              "      <td>114</td>\n",
              "      <td>None</td>\n",
              "      <td>20</td>\n",
              "      <td>5</td>\n",
              "      <td>20</td>\n",
              "    </tr>\n",
              "  </tbody>\n",
              "</table>\n",
              "<p>1 rows × 56 columns</p>\n",
              "</div>\n",
              "    <div class=\"colab-df-buttons\">\n",
              "\n",
              "  <div class=\"colab-df-container\">\n",
              "    <button class=\"colab-df-convert\" onclick=\"convertToInteractive('df-94f34ca8-d674-4c30-8b83-9a09dad3165b')\"\n",
              "            title=\"Convert this dataframe to an interactive table.\"\n",
              "            style=\"display:none;\">\n",
              "\n",
              "  <svg xmlns=\"http://www.w3.org/2000/svg\" height=\"24px\" viewBox=\"0 -960 960 960\">\n",
              "    <path d=\"M120-120v-720h720v720H120Zm60-500h600v-160H180v160Zm220 220h160v-160H400v160Zm0 220h160v-160H400v160ZM180-400h160v-160H180v160Zm440 0h160v-160H620v160ZM180-180h160v-160H180v160Zm440 0h160v-160H620v160Z\"/>\n",
              "  </svg>\n",
              "    </button>\n",
              "\n",
              "  <style>\n",
              "    .colab-df-container {\n",
              "      display:flex;\n",
              "      gap: 12px;\n",
              "    }\n",
              "\n",
              "    .colab-df-convert {\n",
              "      background-color: #E8F0FE;\n",
              "      border: none;\n",
              "      border-radius: 50%;\n",
              "      cursor: pointer;\n",
              "      display: none;\n",
              "      fill: #1967D2;\n",
              "      height: 32px;\n",
              "      padding: 0 0 0 0;\n",
              "      width: 32px;\n",
              "    }\n",
              "\n",
              "    .colab-df-convert:hover {\n",
              "      background-color: #E2EBFA;\n",
              "      box-shadow: 0px 1px 2px rgba(60, 64, 67, 0.3), 0px 1px 3px 1px rgba(60, 64, 67, 0.15);\n",
              "      fill: #174EA6;\n",
              "    }\n",
              "\n",
              "    .colab-df-buttons div {\n",
              "      margin-bottom: 4px;\n",
              "    }\n",
              "\n",
              "    [theme=dark] .colab-df-convert {\n",
              "      background-color: #3B4455;\n",
              "      fill: #D2E3FC;\n",
              "    }\n",
              "\n",
              "    [theme=dark] .colab-df-convert:hover {\n",
              "      background-color: #434B5C;\n",
              "      box-shadow: 0px 1px 3px 1px rgba(0, 0, 0, 0.15);\n",
              "      filter: drop-shadow(0px 1px 2px rgba(0, 0, 0, 0.3));\n",
              "      fill: #FFFFFF;\n",
              "    }\n",
              "  </style>\n",
              "\n",
              "    <script>\n",
              "      const buttonEl =\n",
              "        document.querySelector('#df-94f34ca8-d674-4c30-8b83-9a09dad3165b button.colab-df-convert');\n",
              "      buttonEl.style.display =\n",
              "        google.colab.kernel.accessAllowed ? 'block' : 'none';\n",
              "\n",
              "      async function convertToInteractive(key) {\n",
              "        const element = document.querySelector('#df-94f34ca8-d674-4c30-8b83-9a09dad3165b');\n",
              "        const dataTable =\n",
              "          await google.colab.kernel.invokeFunction('convertToInteractive',\n",
              "                                                    [key], {});\n",
              "        if (!dataTable) return;\n",
              "\n",
              "        const docLinkHtml = 'Like what you see? Visit the ' +\n",
              "          '<a target=\"_blank\" href=https://colab.research.google.com/notebooks/data_table.ipynb>data table notebook</a>'\n",
              "          + ' to learn more about interactive tables.';\n",
              "        element.innerHTML = '';\n",
              "        dataTable['output_type'] = 'display_data';\n",
              "        await google.colab.output.renderOutput(dataTable, element);\n",
              "        const docLink = document.createElement('div');\n",
              "        docLink.innerHTML = docLinkHtml;\n",
              "        element.appendChild(docLink);\n",
              "      }\n",
              "    </script>\n",
              "  </div>\n",
              "\n",
              "    </div>\n",
              "  </div>\n"
            ],
            "application/vnd.google.colaboratory.intrinsic+json": {
              "type": "dataframe",
              "variable_name": "df"
            }
          },
          "metadata": {},
          "execution_count": 4
        }
      ]
    },
    {
      "cell_type": "code",
      "source": [
        "df = get_df(\"SELECT * from package_data WHERE snyk_scrapping_status ='200'\", conn)\n",
        "print('Total packages that were scrapped successfully:', len(df))\n",
        "df = get_df(\"SELECT * from package_data WHERE health_score is not null and not health_score = '?'\", conn)\n",
        "print('Total packages that have valid health_score:', len(df))\n",
        "df1 = get_df(\"SELECT * from package_data WHERE security is not null and not security = '?' and not security = 'PENDING…'\", conn)\n",
        "print('Total packages that have valid security:', len(df1))\n",
        "df = get_df(\"SELECT * from package_data WHERE popularity is not null and not popularity = '?' and not popularity = 'PENDING…'\", conn)\n",
        "print('Total packages that have valid popularity:', len(df))\n",
        "df = get_df(\"SELECT * from package_data WHERE maintenance is not null and not maintenance = '?' and not maintenance = 'PENDING…'\", conn)\n",
        "print('Total packages that have valid maintenance:', len(df))\n",
        "df = get_df(\"SELECT * from package_data WHERE community is not null and not community = '?' and not maintenance = 'PENDING…'\", conn)\n",
        "print('Total packages that have valid community:', len(df))"
      ],
      "metadata": {
        "colab": {
          "base_uri": "https://localhost:8080/"
        },
        "id": "xFbX9MuuDysI",
        "outputId": "b67d2238-e479-4d73-d7bb-3f15d4eede93"
      },
      "execution_count": null,
      "outputs": [
        {
          "output_type": "stream",
          "name": "stdout",
          "text": [
            "Total packages that were scrapped successfully: 29284\n",
            "Total packages that have valid health_score: 29284\n",
            "Total packages that have valid security: 28960\n",
            "Total packages that have valid popularity: 28961\n",
            "Total packages that have valid maintenance: 28961\n",
            "Total packages that have valid community: 28961\n"
          ]
        }
      ]
    },
    {
      "cell_type": "code",
      "source": [
        "# getting columns to analyze\n",
        "with open('columns_to_analyze.txt', \"r\") as file:\n",
        "  columns_to_analyze = file.read()\n",
        "columns_to_analyze = json.loads(columns_to_analyze)\n",
        "\n",
        "conditions = [f\"{column} IS NOT NULL\" for column in columns_to_analyze]\n",
        "sql_query = f\"SELECT * FROM package_data\\nWHERE \"\n",
        "sql_query += \" AND \".join(conditions) + \";\"\n",
        "df = get_df(sql_query, conn)\n",
        "print(f\"Total {len(df)} rows present with all non-null values\")\n",
        "# df"
      ],
      "metadata": {
        "colab": {
          "base_uri": "https://localhost:8080/"
        },
        "id": "9RON5iSc-KSy",
        "outputId": "263cd0be-46f5-4959-9c49-fa178b59e440"
      },
      "execution_count": null,
      "outputs": [
        {
          "output_type": "stream",
          "name": "stdout",
          "text": [
            "Total 244 rows present with all non-null values\n"
          ]
        }
      ]
    },
    {
      "cell_type": "code",
      "source": [
        "print('Distinct values of the column rank')\n",
        "print(get_distinct_values_from_column(conn, 'rank'))"
      ],
      "metadata": {
        "colab": {
          "base_uri": "https://localhost:8080/"
        },
        "id": "2LqTL8PZTkXF",
        "outputId": "70d76241-7eac-4e05-d9b3-1972dfa176d7"
      },
      "execution_count": null,
      "outputs": [
        {
          "output_type": "stream",
          "name": "stdout",
          "text": [
            "Distinct values of the column rank\n",
            "[None, '6', '10', '3', '5', '2', '4', '8', '23', '9', '11', '7', '14', '12', '1', '13', '0', '25', '22', '16', '15', '20', '17', '21', '19', '18', '27', '24', '26', '28', '29']\n"
          ]
        }
      ]
    },
    {
      "cell_type": "code",
      "source": [
        "print('Distinct values of the dependants_count')\n",
        "print(get_distinct_values_from_column(conn, 'dependants_count'))"
      ],
      "metadata": {
        "colab": {
          "base_uri": "https://localhost:8080/"
        },
        "id": "oixt4BHxZsM4",
        "outputId": "9834363f-763d-42a9-8daf-34f737ab94af"
      },
      "execution_count": null,
      "outputs": [
        {
          "output_type": "stream",
          "name": "stdout",
          "text": [
            "Distinct values of the dependants_count\n",
            "['3', '0', '1', '2', None, '15', '9', '129561', '1291', '4', '212', '5', '15852850', '77', '24', '518', '25', '24780620', '114', '10', '6', '1088', '70', '14738430', '13', '810', '1633', '24797578', '21', '27', '26', '50', '23', '186', '35', '136', '20537', '40', '14', '22', '7', '52', '24798545', '78', '74', '13517310', '3951', '91817', '346', '626', '16', '32', '2939', '2370', '410809', '409', '28', '25248', '19', '460', '515', '8', '744', '4700', '461400', '87', '227', '31', '7504', '1837', '19321', '39374', '1335', '479', '106', '11', '500', '2577', '11159', '1449543', '82', '3977', '133', '18294548', '41', '20', '18', '1601', '110', '11928462', '15733', '38', '646', '9971542', '7852', '2509', '263', '2805', '262439', '532', '168', '12', '1511', '149', '440', '981', '59', '60', '2115', '80', '16977', '284', '45', '424', '247', '1212', '27764543', '104', '33', '67', '4110', '193', '296', '27311', '743', '264', '43', '290', '1057', '1413', '2453', '932', '83', '39', '344', '144', '238371', '142', '556', '3382', '347', '15006', '138', '59774', '1968', '107', '563', '1085511', '3271', '343', '24804997', '411', '9342', '5723', '11270', '36', '42', '165', '2552', '81', '304', '47', '6223', '324', '24805828', '116', '168770', '374', '10644', '1299', '12767', '2767', '178', '118', '376', '17', '62525', '747', '30755', '46', '130', '93', '44', '123309', '325', '1346', '533', '396', '2507199', '129', '86', '1085825', '4137', '6618', '117', '18295', '1996', '253', '778', '51', '68', '5347', '456313', '402', '65', '19387', '4499', '101', '115', '12484', '229', '90', '17239', '150', '162357', '457', '1660', '301', '24807018', '128', '91', '94', '4636', '72', '203', '37', '15987148', '236006', '372', '55', '75', '217', '451324', '4574', '433', '176', '30699', '10734', '259', '9746', '2030', '53', '19204', '295', '1568', '29', '30768', '1050', '169', '34751', '1032780', '63', '4082', '1684', '1764', '2542', '10719', '57', '4934', '806', '124', '56', '250', '11442', '71023', '172', '2145', '69', '19654211', '41690', '164642', '2933', '8980', '3127', '3440775', '30', '439', '1237', '24797330', '1210', '241', '1947', '161', '11875136', '178261', '774', '3721', '170349', '85357', '735', '194', '6346', '27704982', '141174', '11927811', '16578', '539', '636', '688', '237', '465', '34', '18352554', '205', '71', '10325', '24799553', '12480', '15002', '41815', '342', '20303123', '24800054', '1276682', '62', '399780', '276', '182', '1333', '4518', '15617', '1032267', '741', '340', '24800829', '436424', '380', '1068', '651', '15557', '167', '5267', '1514', '35874', '24801831', '1778', '1411', '557', '24802351', '1021549', '986', '548', '740', '9082', '121', '2585483', '109', '331', '484', '1078805', '50756', '2091', '24805202', '236', '66368', '8063', '79', '92', '141', '24805412', '412', '1212981', '108', '134', '42041', '1070', '24805624', '89', '3636', '257260', '599', '2283', '7596', '1789', '529', '127', '7843', '4840', '154', '348', '52071', '100762', '432', '24806150', '11930639', '3378780', '1452', '11930606', '2205547', '167379', '34366', '24806327', '1845', '54', '471', '230', '196977', '2378', '3807', '570', '215', '581', '281', '308417', '10433', '334', '277', '434', '2626', '6019', '99', '106647', '23680', '1025', '436', '435', '11621', '2641', '656313', '20560', '73', '507', '249151', '27606', '964', '24212', '22150427', '9012', '64', '6724', '973', '14613901', '6383', '143', '52398', '422', '420', '813', '3486', '8877', '4208', '1953', '797', '33502', '98', '97', '8077', '100', '41708', '692', '3960643', '152', '316', '16010', '140', '787', '9642234', '2147', '152267', '3817354', '24014', '9382641', '2084', '1670432', '4657722', '679', '24799043', '19652', '14755', '13406421', '184', '1049', '1548', '1242', '36627', '557542', '135', '35759', '181857', '402314', '877', '15265', '7750', '9735', '9579831', '317', '208', '42901', '625', '66', '191', '48', '153525', '2913', '7411176', '113', '24805980', '1032', '1048', '5611', '790', '3623', '4425', '13917022', '5918', '594', '2724', '1565', '105', '11930668', '1292', '76340', '1254', '11930727', '42911', '3234', '7901015', '38924', '3749967', '2327267', '103', '495', '131', '221', '35704', '5102', '11930888', '859121', '298', '9250', '1427', '1377', '110312', '1351', '24807473', '157853', '24807873', '165308', '931', '441', '289', '198', '825', '483', '700', '5270', '5613', '4859328', '246', '69219', '25073', '3304', '1338', '859157', '3622519', '35888', '1934', '2057', '126', '31906', '1102', '17741', '96', '177591', '24035352', '245', '846', '88', '24808554', '891', '102', '1126', '5350', '24808697', '151', '8529', '11931381', '5091', '258', '1512', '1685', '105913', '7597', '501929', '6096', '19677906', '139162', '36702', '24808952', '2254', '19678001', '21756707', '11069853', '241801', '621', '123', '9087', '821', '7114', '179', '8227', '606', '24798289', '168531', '168702', '3179', '8096', '18189707', '24536', '386', '373', '12182', '896', '1495', '329', '11928679', '12220', '156', '30686', '506', '24801382', '1059', '20576653', '795', '252', '1751', '1282474', '2251', '27190', '24802853', '2102', '180675', '379', '41063', '280', '1719', '315', '27315', '630', '600', '865', '859072', '715418', '122', '7409', '4133', '9761', '175', '2486', '12798', '2347', '365', '171', '92598', '21962', '350', '510', '224', '377', '1534', '525', '238', '11238', '423', '24806690', '910023', '330', '111', '884', '241889', '1247745', '2520', '206', '1899', '24807620', '25218', '20217975', '2514', '1339', '377998', '577', '2774', '19677062', '135532', '10435', '176465', '375', '137937', '2300', '5859', '10248', '1051', '100773', '750', '11410', '1028', '84', '17601', '337', '889', '4495', '158', '1393', '6778', '736', '79105', '1381', '2196', '1808', '404', '592', '1488', '24808255', '124774', '8683', '1870', '1187107', '327', '4742', '351', '223', '436529', '275643', '326', '112', '314', '15441373', '15611', '85', '7925', '15480', '12684943', '98453', '47764', '18568', '4093', '2203645', '1090', '1021', '121910', '19668102', '537', '16540', '234', '241861', '66745', '157', '19668741', '929', '756', '543', '17640', '388', '11958542', '7748', '405', '552432', '11430', '119', '2592', '8436', '2553833', '95', '14458', '90102', '633', '3794', '15562823', '23603', '30846', '174', '16146', '7177', '5471', '209', '2149', '11959931', '104668', '791893', '164', '76', '509', '1479', '52227', '239', '11929540', '293', '3839', '196', '694', '11961572', '311', '436497', '16543', '503', '671119', '4793', '2419', '442', '49', '2233', '5345', '58', '180', '6377', '38765', '207', '603', '220090', '3205', '13789', '33320', '8198', '1433', '990', '5359716', '45226', '24806583', '173', '100767', '4225', '867', '523', '3753', '28137', '283955', '7821426', '861222', '2991', '27754', '23608', '363', '1099', '1463', '2327', '291', '24807329', '11948', '754', '18194100', '1085886', '23601', '5623', '27404', '139', '572', '251526', '183', '1669592', '24780873', '11927431', '16144', '2363', '19424', '204', '18148', '1704', '4948', '427310', '23999945', '11832', '185', '19819', '1066335', '427', '1081', '7886', '18082', '1432', '6470', '24799787', '272', '37150', '1203', '451211', '912', '736963', '10430', '24801103', '171999', '494', '30717', '4498', '2788327', '281332', '541', '226', '61', '2080', '859065', '100756', '1528', '711', '5696', '121552', '2184', '3214', '14934', '306761', '171072', '690', '41147', '2204', '4372', '450', '1494', '2435590', '20092', '146', '720', '668', '1570975', '401', '2491', '1630', '49649', '16026', '1194', '725', '622', '41605', '36288', '170', '3569', '77348', '33947', '1632', '18320', '768', '86495', '4134', '46508', '137', '1894', '321', '54525', '436525', '9128', '141894', '5867', '1103', '930', '18092', '19677257', '32915', '1851', '24808008', '29247', '397', '25910', '113467', '608', '2153', '408', '674', '1774', '1538', '13358', '2097', '2690', '100776', '20156', '4440', '4833', '27057', '1738', '144636', '8456361', '2691', '1697', '189', '24781377', '217514', '827', '488', '162', '106076', '65184', '382', '8410859', '49380', '61412', '13910', '27704377', '1385413', '1669', '240', '358072', '1917', '235', '24624', '159', '1015', '357', '3026', '270883', '3347', '8021', '6162', '2407', '100709', '108998', '498', '71055', '4130', '614287', '567', '15450', '12677', '1315', '29457', '62513', '225', '2418', '42894', '8308', '297', '19672303', '1790', '1948', '1515255', '1866', '7286', '1713', '257256', '132', '662', '913', '6564', '1052', '1007', '152284', '11947', '883', '2825', '155', '34340', '15610', '181890', '1189', '6506', '2348', '730', '35247', '23605', '14127', '195279', '27949', '617', '4936', '125', '59776', '20216549', '2965', '11201', '4577', '1952', '4371', '3749789', '756152', '157842', '552', '2316', '29924', '19996', '256', '366126', '436506', '400', '218', '31483', '1159', '197', '459', '14225', '94278', '520', '1825', '23233', '466', '4458', '3341', '419', '94664', '517', '7479', '65366', '24781120', '501', '745', '164188', '1385419', '398', '417', '210', '2826', '13731', '53572', '79082', '24714274', '64691', '187', '8430729', '1006', '5610', '3169', '49485', '243', '1161370', '1520', '2444', '2875', '677', '171193', '41659', '4756', '14740778', '47777', '5025', '3582', '25746531', '16678', '138128', '4008', '204510', '591', '148', '5616', '202908', '2043', '698', '24802593', '255', '653', '4226', '5120', '544', '1644', '1787', '8418668', '356', '95775', '222', '105734', '22871', '192', '335', '1570', '2171', '285', '1699', '474', '950', '181898', '2459', '120', '147', '299', '2603', '3922', '273', '3750282', '2230', '32553646', '243985', '6004', '1140', '387690', '623', '4043', '2838', '5365754', '17739', '3757', '3187', '370', '3026538', '33857', '658', '418', '2550', '104297', '1026', '672', '590452', '3619', '65057', '430', '1858', '28141', '11931131', '1905', '765', '25527478', '11113', '145', '206451', '2075', '459340', '1010', '1019', '11175', '2613001', '1202', '24808121', '163', '22790', '28336', '27529', '10397', '10098322', '12116', '648', '691', '11921525', '13936', '511', '682', '137635', '2934', '10477', '1441', '270', '395', '65156', '156536', '1598', '789', '2282', '3116', '24806147', '1060', '482', '690583', '528', '11163', '985', '10434', '28138', '512549', '24807168', '26549', '378', '35886', '1308', '428', '5189', '559', '109568', '28090737', '1501', '251598', '656159', '29202', '859145', '4799', '2559280', '5777', '66369', '451339', '267', '1100', '283986', '782', '590', '10538', '27713721', '11931333', '7630', '7737', '277190', '10980021', '2058', '605', '268', '175847', '24808842', '1095', '798', '269', '24809347', '496', '928', '307449', '92604', '11000', '2313', '28145', '320', '513', '2223', '11931651', '48099', '29533', '119762', '13606', '12490', '1782', '24810064', '69237', '1902', '1423', '370966', '2995', '288', '10947', '181935', '33510', '286', '1798', '792203', '24810540', '2569', '1484', '21331', '354', '6675', '7208', '61878', '4547', '757', '251604', '489']\n"
          ]
        }
      ]
    }
  ],
  "metadata": {
    "colab": {
      "provenance": [],
      "collapsed_sections": [
        "gj4GONbj_uKo"
      ]
    },
    "kernelspec": {
      "display_name": "Python 3",
      "name": "python3"
    },
    "language_info": {
      "name": "python"
    }
  },
  "nbformat": 4,
  "nbformat_minor": 0
}