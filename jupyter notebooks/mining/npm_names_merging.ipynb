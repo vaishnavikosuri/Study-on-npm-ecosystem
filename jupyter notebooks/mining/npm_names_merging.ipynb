{
  "nbformat": 4,
  "nbformat_minor": 0,
  "metadata": {
    "colab": {
      "provenance": []
    },
    "kernelspec": {
      "name": "python3",
      "display_name": "Python 3"
    },
    "language_info": {
      "name": "python"
    }
  },
  "cells": [
    {
      "cell_type": "markdown",
      "source": [
        "# Imports"
      ],
      "metadata": {
        "id": "5WBjB25UNMtX"
      }
    },
    {
      "cell_type": "code",
      "execution_count": null,
      "metadata": {
        "id": "055IeVdhRPRa"
      },
      "outputs": [],
      "source": [
        "import os\n",
        "import numpy as np\n",
        "import subprocess\n",
        "import pandas as pd\n",
        "import requests\n",
        "from urllib.parse import urljoin\n",
        "import sqlite3\n",
        "import json\n",
        "import time"
      ]
    },
    {
      "cell_type": "code",
      "source": [
        "from google.colab import drive\n",
        "\n",
        "drive.mount('/content/gdrive/', force_remount=True)\n",
        "os.chdir(\"/content/gdrive/Shareddrives/ECS 260\")"
      ],
      "metadata": {
        "colab": {
          "base_uri": "https://localhost:8080/"
        },
        "id": "-58YRwbua8F-",
        "outputId": "83271da7-bbee-4998-9e95-670a59aa4ba5"
      },
      "execution_count": null,
      "outputs": [
        {
          "output_type": "stream",
          "name": "stdout",
          "text": [
            "Mounted at /content/gdrive/\n"
          ]
        }
      ]
    },
    {
      "cell_type": "markdown",
      "source": [
        "# DB Init"
      ],
      "metadata": {
        "id": "G9LfsrKbNQaX"
      }
    },
    {
      "cell_type": "code",
      "source": [
        "conn = sqlite3.connect('npm_names.db')\n",
        "cursor = conn.cursor()\n",
        "\n",
        "cursor.execute('''\n",
        "    SELECT * FROM npm_package_names\n",
        "    ORDER BY package\n",
        "''')\n",
        "\n",
        "npm_names_list = cursor.fetchall()\n",
        "conn.close()"
      ],
      "metadata": {
        "id": "liYlfEC1daeW"
      },
      "execution_count": null,
      "outputs": []
    },
    {
      "cell_type": "code",
      "source": [
        "conn = sqlite3.connect('npm_names_rev.db')\n",
        "cursor = conn.cursor()\n",
        "\n",
        "cursor.execute('''\n",
        "    SELECT * FROM npm_package_names\n",
        "    ORDER BY package\n",
        "''')\n",
        "\n",
        "npm_names_list_rev = cursor.fetchall()\n",
        "conn.close()"
      ],
      "metadata": {
        "id": "wdp0yOodeXRQ"
      },
      "execution_count": null,
      "outputs": []
    },
    {
      "cell_type": "markdown",
      "source": [
        "# Merging\n",
        "(and storing in `npm_names.txt` text file)"
      ],
      "metadata": {
        "id": "JoY_b00tQqgC"
      }
    },
    {
      "cell_type": "code",
      "source": [
        "npm_names_list = [row[0] for row in npm_names_list]\n",
        "npm_names_list_rev = [row[0] for row in npm_names_list_rev]"
      ],
      "metadata": {
        "id": "jMQZi5kyehv8"
      },
      "execution_count": null,
      "outputs": []
    },
    {
      "cell_type": "code",
      "source": [
        "npm_names_final = npm_names_list + npm_names_list_rev"
      ],
      "metadata": {
        "id": "kLT_1qI0ewoX"
      },
      "execution_count": null,
      "outputs": []
    },
    {
      "cell_type": "code",
      "source": [
        "len(npm_names_final)"
      ],
      "metadata": {
        "colab": {
          "base_uri": "https://localhost:8080/"
        },
        "id": "B7K7GWKWe4sc",
        "outputId": "aabb7e6a-a430-461c-8b12-28cd4af53497"
      },
      "execution_count": null,
      "outputs": [
        {
          "output_type": "execute_result",
          "data": {
            "text/plain": [
              "2682500"
            ]
          },
          "metadata": {},
          "execution_count": 31
        }
      ]
    },
    {
      "cell_type": "code",
      "source": [
        "npm_names_unique_and_sorted = sorted(set(npm_names_final))\n",
        "len(npm_names_unique_and_sorted)"
      ],
      "metadata": {
        "colab": {
          "base_uri": "https://localhost:8080/"
        },
        "id": "Z4lwCZ7-fPED",
        "outputId": "21549043-d983-47c2-90fb-5242e99813ef"
      },
      "execution_count": null,
      "outputs": [
        {
          "output_type": "execute_result",
          "data": {
            "text/plain": [
              "2682500"
            ]
          },
          "metadata": {},
          "execution_count": 32
        }
      ]
    },
    {
      "cell_type": "code",
      "source": [
        "npm_names_unique_and_sorted_json = json.dumps(npm_names_unique_and_sorted)\n",
        "\n",
        "# Write the JSON string to a text file\n",
        "with open(\"npm_names.txt\", \"w\") as file:\n",
        "    file.write(npm_names_unique_and_sorted_json)"
      ],
      "metadata": {
        "id": "WCf_8bo5fufH"
      },
      "execution_count": null,
      "outputs": []
    },
    {
      "cell_type": "code",
      "source": [
        "with open(\"npm_names.txt\", \"r\") as file:\n",
        "    json_string = file.read()\n",
        "\n",
        "# Convert the JSON string back to a Python list\n",
        "my_list = json.loads(json_string)"
      ],
      "metadata": {
        "id": "f-vAm0ABgbAG"
      },
      "execution_count": null,
      "outputs": []
    }
  ]
}